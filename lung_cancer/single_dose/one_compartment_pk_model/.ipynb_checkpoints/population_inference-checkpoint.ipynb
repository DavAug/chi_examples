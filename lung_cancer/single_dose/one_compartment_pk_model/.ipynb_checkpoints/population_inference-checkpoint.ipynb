{
 "cells": [
  {
   "cell_type": "markdown",
   "metadata": {},
   "source": [
    "# Infer Population PK Model Parameters from Individuals in Lung Cancer Treatment Group with Single Erlotinib Dose"
   ]
  },
  {
   "cell_type": "markdown",
   "metadata": {},
   "source": [
    "## Preclinical data"
   ]
  },
  {
   "cell_type": "code",
   "execution_count": null,
   "metadata": {},
   "outputs": [],
   "source": [
    "import erlotinib as erlo\n",
    "import pandas as pd\n",
    "\n",
    "# Get data\n",
    "data = erlo.DataLibrary().lung_cancer_single_erlotinib_dose_group()\n",
    "\n",
    "# Create scatter plot\n",
    "fig = erlo.plots.PKTimeSeriesPlot()\n",
    "fig.add_data(data, biomarker='Plasma concentration')\n",
    "fig.set_axis_labels(\n",
    "    time_label=r'$\\text{Time in day}$', \n",
    "    biom_label=r'$\\text{Plasma concentration in ng/mL}$', \n",
    "    dose_label=r'$\\text{Dose in mg}$')\n",
    "fig.show()"
   ]
  },
  {
   "cell_type": "markdown",
   "metadata": {},
   "source": [
    "**Figure 1:** Visualisation of the measured erlotinib plasma concentration in mice with patient-derived lung cancer implants."
   ]
  },
  {
   "cell_type": "markdown",
   "metadata": {},
   "source": [
    "## Build Population PK model"
   ]
  },
  {
   "cell_type": "code",
   "execution_count": null,
   "metadata": {},
   "outputs": [],
   "source": [
    "import erlotinib as erlo\n",
    "\n",
    "# Define mechanistic model\n",
    "path = erlo.ModelLibrary().one_compartment_pk_model()\n",
    "mechanistic_model = erlo.PharmacokineticModel(path)\n",
    "mechanistic_model.set_administration(compartment='central', direct=False)\n",
    "mechanistic_model.set_parameter_names(names={\n",
    "    'central.drug_amount': 'Initial plasma drug amount in mg',\n",
    "    'dose.drug_amount': 'Initial dose comp. drug amount in mg',\n",
    "    'central.size': 'Volume of distribution in L',\n",
    "    'dose.absorption_rate': 'Absorption rate in 1/d',\n",
    "    'myokit.elimination_rate': 'Elimination rate in 1/d'})\n",
    "\n",
    "# Define error model\n",
    "error_model = erlo.ConstantAndMultiplicativeGaussianErrorModel()\n",
    "\n",
    "# Define population model\n",
    "population_models = [\n",
    "    erlo.LogNormalModel(),   # Volume of distribution\n",
    "    erlo.LogNormalModel(),   # Absorption rate\n",
    "    erlo.LogNormalModel(),   # Elimination rate\n",
    "    erlo.PooledModel()]      # Plasma concentration sigma rel.\n",
    "\n",
    "# Build model\n",
    "problem = erlo.ProblemModellingController(\n",
    "    mechanistic_model, error_model)\n",
    "problem.fix_parameters(name_value_dict={\n",
    "    'Initial plasma drug amount in mg': 0,\n",
    "    'Initial dose comp. drug amount in mg': 0,\n",
    "    'Sigma base': 0.1})\n",
    "problem.set_population_model(population_models)"
   ]
  },
  {
   "cell_type": "markdown",
   "metadata": {},
   "source": [
    "## Prior predictive checks"
   ]
  },
  {
   "cell_type": "code",
   "execution_count": null,
   "metadata": {},
   "outputs": [],
   "source": [
    "import numpy as np\n",
    "import pints\n",
    "\n",
    "# Define prior distribution\n",
    "log_priors = [\n",
    "    pints.HalfCauchyLogPrior(location=0, scale=1),                    # Volume of distribution\n",
    "    pints.HalfCauchyLogPrior(location=1, scale=2),                    # Absorption rate\n",
    "    pints.HalfCauchyLogPrior(location=0, scale=0.1),                  # Elimination rate\n",
    "    pints.TruncatedGaussianLogPrior(mean=1, sd=1, a=0, b=np.inf)]     # Sigma rel.\n",
    "log_prior = pints.ComposedLogPrior(*log_priors)\n",
    "\n",
    "# Define prior predictive model and sample 1000 virtual patients\n",
    "predictive_model = problem.get_predictive_model(exclude_pop_model=True)\n",
    "model = erlo.PriorPredictiveModel(predictive_model, log_prior)\n",
    "seed = 42\n",
    "n_samples = 100\n",
    "times = np.linspace(start=0, stop=5, num=100)\n",
    "model.set_dosing_regimen(2.5, start=0, period=4, num=2)\n",
    "samples = model.sample(times, n_samples, seed)\n",
    "\n",
    "# Visualise prior predictive model\n",
    "fig = erlo.plots.PDPredictivePlot()\n",
    "fig.add_prediction(data=samples, bulk_probs=[0.3, 0.6, 0.9])\n",
    "fig.set_axis_labels(xlabel=r'$\\text{Time in day}$', ylabel=r'$\\text{Plasma conc. in ng/mL}$')\n",
    "fig.show()"
   ]
  },
  {
   "cell_type": "markdown",
   "metadata": {},
   "source": [
    "**Figure 2:** Prior predictive model of erlotinib plasma concentration measurements over time. The shaded areas estimate the 0.3, 0.6 and 0.9 bulk probability of the prior predictive distribution by sampling 1000 virtual \"measurements\" at each of the time points."
   ]
  },
  {
   "cell_type": "markdown",
   "metadata": {},
   "source": [
    "## Find MAP estimates for model parameters"
   ]
  },
  {
   "cell_type": "code",
   "execution_count": null,
   "metadata": {},
   "outputs": [],
   "source": [
    "# Create posterior\n",
    "problem.set_data(data, output_biomarker_dict={'central.drug_concentration': 'Plasma concentration'})\n",
    "problem.set_log_prior(\n",
    "    [pints.TruncatedGaussianLogPrior(mean=1, sd=1, a=0, b=np.inf)] * 30 +            # Volume of distribution\n",
    "    [pints.TruncatedGaussianLogPrior(mean=1, sd=1, a=0, b=np.inf)] +                 # Mean Volume of distribution\n",
    "    [pints.TruncatedGaussianLogPrior(mean=1, sd=1, a=0, b=np.inf)] +                 # Std. Volume of distribution\n",
    "    [pints.TruncatedGaussianLogPrior(mean=1, sd=1, a=0, b=np.inf)] * 30 +            # Absorption rate\n",
    "    [pints.TruncatedGaussianLogPrior(mean=1, sd=1, a=0, b=np.inf)] +                 # Mean Absorption rate\n",
    "    [pints.TruncatedGaussianLogPrior(mean=1, sd=1, a=0, b=np.inf)] +                 # Std. Absorption rate\n",
    "    [pints.TruncatedGaussianLogPrior(mean=1, sd=1, a=0, b=np.inf)] * 30 +            # Elimination rate\n",
    "    [pints.TruncatedGaussianLogPrior(mean=1, sd=1, a=0, b=np.inf)] +                 # Mean Elimination rate\n",
    "    [pints.TruncatedGaussianLogPrior(mean=1, sd=1, a=0, b=np.inf)] +                 # Std. Elimination rate\n",
    "    [pints.TruncatedGaussianLogPrior(mean=1, sd=1, a=0, b=np.inf)])   # Pooled Sigma rel.\n",
    "log_posterior = problem.get_log_posterior()\n",
    "\n",
    "# Find maximum a posteriori probability estimates (MAP)\n",
    "opt = erlo.OptimisationController(log_posterior)\n",
    "opt.set_transform(transform=pints.LogTransformation(n_parameters=problem.get_n_parameters()))\n",
    "opt.set_n_runs(1)\n",
    "map_estimates = opt.run(show_run_progress_bar=True)"
   ]
  },
  {
   "cell_type": "markdown",
   "metadata": {},
   "source": [
    "### Visualise optimisation results"
   ]
  },
  {
   "cell_type": "code",
   "execution_count": null,
   "metadata": {},
   "outputs": [],
   "source": [
    "fig = erlo.plots.ParameterEstimatePlot()\n",
    "fig.add_data(map_estimates)\n",
    "\n",
    "fig.show()"
   ]
  },
  {
   "cell_type": "markdown",
   "metadata": {},
   "source": [
    "**Figure 3:** Maximum a posteriori (MAP) estimates of the model parameters. The y axis displays the estimated parameter value, and the x axis the corresponding individual."
   ]
  },
  {
   "cell_type": "markdown",
   "metadata": {},
   "source": [
    "## Find posterior probability distribution"
   ]
  },
  {
   "cell_type": "code",
   "execution_count": null,
   "metadata": {},
   "outputs": [],
   "source": [
    "# Set up sampling controller\n",
    "sampler = erlo.SamplingController(log_posterior)\n",
    "sampler.set_initial_parameters(data=map_estimates)\n",
    "sampler.set_transform(transform=pints.LogTransformation(n_parameters=problem.get_n_parameters()))\n",
    "\n",
    "# Run sampling\n",
    "posterior_samples = sampler.run(n_iterations=4000, show_progress_bar=True)\n",
    "\n",
    "# initial points seem to be broken"
   ]
  },
  {
   "cell_type": "markdown",
   "metadata": {},
   "source": [
    "### Visualise marginal posteriors"
   ]
  },
  {
   "cell_type": "code",
   "execution_count": null,
   "metadata": {},
   "outputs": [],
   "source": [
    "fig = erlo.plots.MarginalPosteriorPlot()\n",
    "fig.add_data(data=posterior_samples, warm_up_iter=2000)\n",
    "\n",
    "fig.show()"
   ]
  },
  {
   "cell_type": "markdown",
   "metadata": {},
   "source": [
    "**Figure 4:** Marginal posterior distributions of model parameters. The y axis displays the sampled parameter value, and the x axis the binned number of samples for each individual."
   ]
  },
  {
   "cell_type": "markdown",
   "metadata": {},
   "source": [
    "## Posterior predictive checks"
   ]
  },
  {
   "cell_type": "code",
   "execution_count": null,
   "metadata": {},
   "outputs": [],
   "source": [
    "# Define posterior predictive model\n",
    "predictive_model = problem.get_predictive_model(exclude_pop_model=True)\n",
    "model = erlo.PosteriorPredictiveModel(predictive_model, posterior_samples)\n",
    "seed = 42\n",
    "n_samples = 1000\n",
    "times = np.linspace(start=0, stop=5, num=1000)\n",
    "model.set_dosing_regimen(2.5, start=0, period=4, num=2)\n",
    "samples = model.sample(times, n_samples, seed)\n",
    "\n",
    "# Visualise prior predictive model\n",
    "fig = erlo.plots.PDPredictivePlot()\n",
    "fig.add_prediction(data=samples, bulk_probs=[0.3, 0.6, 0.9])\n",
    "fig.add_data(data, biomarker='Plasma concentration')\n",
    "fig.set_axis_labels(xlabel=r'$\\text{Time in day}$', ylabel=r'$\\text{Plasma conc. in ng/mL}$')\n",
    "fig.show()"
   ]
  },
  {
   "cell_type": "markdown",
   "metadata": {},
   "source": [
    "**Figure 5** Approximate posterior predictive model for the erlotinib plasma concentration in the population over time for different dosing strategies. The shaded area indicate the 90% bulk of the posterior predictive model. The posterior predictive model was approximated by sampling 1000 parameters from the posterior distribution, and subsequent sampling of 50 equidistant time points from the predictive model. The scatter points indicate the measurement data that was used for the inference."
   ]
  }
 ],
 "metadata": {
  "kernelspec": {
   "display_name": "erlotinib-venv",
   "language": "python",
   "name": "erlotinib-venv"
  },
  "language_info": {
   "codemirror_mode": {
    "name": "ipython",
    "version": 3
   },
   "file_extension": ".py",
   "mimetype": "text/x-python",
   "name": "python",
   "nbconvert_exporter": "python",
   "pygments_lexer": "ipython3",
   "version": "3.7.5"
  },
  "widgets": {
   "application/vnd.jupyter.widget-state+json": {
    "state": {
     "008129a85c2c4fcc9dc38d1e270cf615": {
      "model_module": "@jupyter-widgets/base",
      "model_module_version": "1.2.0",
      "model_name": "LayoutModel",
      "state": {}
     },
     "0168630ea8394a748bd28494ae3dc7ad": {
      "model_module": "@jupyter-widgets/controls",
      "model_module_version": "1.5.0",
      "model_name": "ProgressStyleModel",
      "state": {
       "description_width": "initial"
      }
     },
     "04dcb7fe951645378d3321b703eb000b": {
      "model_module": "@jupyter-widgets/controls",
      "model_module_version": "1.5.0",
      "model_name": "DescriptionStyleModel",
      "state": {
       "description_width": ""
      }
     },
     "0628b9292b16414a85ddf1749737fb39": {
      "model_module": "@jupyter-widgets/base",
      "model_module_version": "1.2.0",
      "model_name": "LayoutModel",
      "state": {}
     },
     "0887f44abf0445d5ae4b2f6a4327a4d4": {
      "model_module": "@jupyter-widgets/base",
      "model_module_version": "1.2.0",
      "model_name": "LayoutModel",
      "state": {}
     },
     "09ae2777d5cd488d9e7df398a8ad4fc5": {
      "model_module": "@jupyter-widgets/controls",
      "model_module_version": "1.5.0",
      "model_name": "HTMLModel",
      "state": {
       "layout": "IPY_MODEL_d89de7387bd3441984bc72078782734a",
       "style": "IPY_MODEL_1791fcc4a4224dad96cedc122d051dee",
       "value": " 1/1 [00:03&lt;00:00,  3.96s/it]"
      }
     },
     "09c5228ec2484e94965f104f86be14dc": {
      "model_module": "@jupyter-widgets/base",
      "model_module_version": "1.2.0",
      "model_name": "LayoutModel",
      "state": {}
     },
     "09f2d2ffa2bb4d10a35b3981017b22b3": {
      "model_module": "@jupyter-widgets/base",
      "model_module_version": "1.2.0",
      "model_name": "LayoutModel",
      "state": {}
     },
     "0aeab35599924ed691b421a6bd5a386c": {
      "model_module": "@jupyter-widgets/controls",
      "model_module_version": "1.5.0",
      "model_name": "HBoxModel",
      "state": {
       "children": [
        "IPY_MODEL_11582b098b134321a7953d687c8b5e5e",
        "IPY_MODEL_6f83fababf674ae9aa6b3090ea93cc2c"
       ],
       "layout": "IPY_MODEL_b874db8d32654775b3129a92c02eaecf"
      }
     },
     "0af62513df7d4d52aec444c5261825e5": {
      "model_module": "@jupyter-widgets/controls",
      "model_module_version": "1.5.0",
      "model_name": "HTMLModel",
      "state": {
       "layout": "IPY_MODEL_2452ae37549e49239b9e682ec0897f9b",
       "style": "IPY_MODEL_48cb133185cb41b3b710e5f55fed1d41",
       "value": " 10/10 [05:18&lt;00:00, 31.85s/it]"
      }
     },
     "0afd036360ae4cdb83d4b2ba2eb68ed8": {
      "model_module": "@jupyter-widgets/controls",
      "model_module_version": "1.5.0",
      "model_name": "ProgressStyleModel",
      "state": {
       "description_width": "initial"
      }
     },
     "0b146f8ddaab47a4bdf2a9abbe0de7fa": {
      "model_module": "@jupyter-widgets/controls",
      "model_module_version": "1.5.0",
      "model_name": "HTMLModel",
      "state": {
       "layout": "IPY_MODEL_2218beef0a4b4b5292efdf69d089f332",
       "style": "IPY_MODEL_bd843379a2b04df3a38125f266e6ba4f",
       "value": " 1/1 [11:32&lt;00:00, 692.82s/it]"
      }
     },
     "0b81d7c7fd834c9784823cb44332fb2b": {
      "model_module": "@jupyter-widgets/controls",
      "model_module_version": "1.5.0",
      "model_name": "HBoxModel",
      "state": {
       "children": [
        "IPY_MODEL_844b3ab3fb284425a6a57a903ccfa4e1",
        "IPY_MODEL_5debcd862b7e4b2b9760243f03f86bf3"
       ],
       "layout": "IPY_MODEL_1e3cb0c6bfb74c3b9acf6ab6a9ff0633"
      }
     },
     "0c60c08b3bb0477eab260fcf1bc3f3de": {
      "model_module": "@jupyter-widgets/controls",
      "model_module_version": "1.5.0",
      "model_name": "HTMLModel",
      "state": {
       "layout": "IPY_MODEL_44852297828b442db5a1ddb435b7ac87",
       "style": "IPY_MODEL_c150057cea3546289c4095ee44eb871c",
       "value": " 10/10 [04:17&lt;00:00, 25.72s/it]"
      }
     },
     "0fb32284e0ee4a9d87ba86dbc3d7b977": {
      "model_module": "@jupyter-widgets/controls",
      "model_module_version": "1.5.0",
      "model_name": "DescriptionStyleModel",
      "state": {
       "description_width": ""
      }
     },
     "10cf479fc8774bee8d4107387de9caa2": {
      "model_module": "@jupyter-widgets/controls",
      "model_module_version": "1.5.0",
      "model_name": "FloatProgressModel",
      "state": {
       "bar_style": "success",
       "description": "100%",
       "layout": "IPY_MODEL_15ad611820ba46f28c13fbcae2f0fd2a",
       "max": 10,
       "style": "IPY_MODEL_ddac693209714e3a8ad95fcf6f22d2c5",
       "value": 10
      }
     },
     "11582b098b134321a7953d687c8b5e5e": {
      "model_module": "@jupyter-widgets/controls",
      "model_module_version": "1.5.0",
      "model_name": "FloatProgressModel",
      "state": {
       "bar_style": "success",
       "description": "100%",
       "layout": "IPY_MODEL_863b6f3cc6d84617970c901ec8a5f5c0",
       "max": 1,
       "style": "IPY_MODEL_fe28f46814a64766a429e438c811cfdd",
       "value": 1
      }
     },
     "12f9e096603b49d881d533d77156ebd0": {
      "model_module": "@jupyter-widgets/base",
      "model_module_version": "1.2.0",
      "model_name": "LayoutModel",
      "state": {}
     },
     "13eaef4aa7bb41658f91b685d5e68e98": {
      "model_module": "@jupyter-widgets/controls",
      "model_module_version": "1.5.0",
      "model_name": "DescriptionStyleModel",
      "state": {
       "description_width": ""
      }
     },
     "14013e8bdcff4c1eb14892cf366a8c6b": {
      "model_module": "@jupyter-widgets/controls",
      "model_module_version": "1.5.0",
      "model_name": "DescriptionStyleModel",
      "state": {
       "description_width": ""
      }
     },
     "14849736894f4dc49c1f8971c52150f8": {
      "model_module": "@jupyter-widgets/controls",
      "model_module_version": "1.5.0",
      "model_name": "HTMLModel",
      "state": {
       "layout": "IPY_MODEL_80a692f41fa54c40b040e7537bac891c",
       "style": "IPY_MODEL_b2355808ca974706ae73b48f5d10dad3",
       "value": " 10/10 [05:12&lt;00:00, 31.24s/it]"
      }
     },
     "1503a86fa1674addbee7165ebcdc6953": {
      "model_module": "@jupyter-widgets/controls",
      "model_module_version": "1.5.0",
      "model_name": "HBoxModel",
      "state": {
       "children": [
        "IPY_MODEL_95699de325024ff2908d7136b4962d68",
        "IPY_MODEL_4f7bd213861440d9b88232bcc1ded39a"
       ],
       "layout": "IPY_MODEL_724b944bb70448159980153060bbb7b0"
      }
     },
     "15ad611820ba46f28c13fbcae2f0fd2a": {
      "model_module": "@jupyter-widgets/base",
      "model_module_version": "1.2.0",
      "model_name": "LayoutModel",
      "state": {}
     },
     "171c4bffcfa749a1b515464af9d30ecb": {
      "model_module": "@jupyter-widgets/base",
      "model_module_version": "1.2.0",
      "model_name": "LayoutModel",
      "state": {}
     },
     "1791fcc4a4224dad96cedc122d051dee": {
      "model_module": "@jupyter-widgets/controls",
      "model_module_version": "1.5.0",
      "model_name": "DescriptionStyleModel",
      "state": {
       "description_width": ""
      }
     },
     "1949754cae5d4ee7ad48f518098f66cf": {
      "model_module": "@jupyter-widgets/base",
      "model_module_version": "1.2.0",
      "model_name": "LayoutModel",
      "state": {}
     },
     "19498102993d40a68a14176cb232c157": {
      "model_module": "@jupyter-widgets/base",
      "model_module_version": "1.2.0",
      "model_name": "LayoutModel",
      "state": {}
     },
     "19695c25e19d4564b4a96827efa9ce12": {
      "model_module": "@jupyter-widgets/controls",
      "model_module_version": "1.5.0",
      "model_name": "ProgressStyleModel",
      "state": {
       "description_width": "initial"
      }
     },
     "19a3206bb4474c6fa2d4fc807e1195c9": {
      "model_module": "@jupyter-widgets/base",
      "model_module_version": "1.2.0",
      "model_name": "LayoutModel",
      "state": {}
     },
     "1ad796ce089d4db192f63c8f4ac932ef": {
      "model_module": "@jupyter-widgets/controls",
      "model_module_version": "1.5.0",
      "model_name": "FloatProgressModel",
      "state": {
       "bar_style": "success",
       "description": "100%",
       "layout": "IPY_MODEL_360cf1293b494d56b2d00e0ffb152336",
       "max": 1,
       "style": "IPY_MODEL_97a1bf000efa44f793b3749f14bfb269",
       "value": 1
      }
     },
     "1bc3843a25ad473b84aa2750509a0203": {
      "model_module": "@jupyter-widgets/controls",
      "model_module_version": "1.5.0",
      "model_name": "DescriptionStyleModel",
      "state": {
       "description_width": ""
      }
     },
     "1cdad1fb2ccb43fea330a30c53504efa": {
      "model_module": "@jupyter-widgets/base",
      "model_module_version": "1.2.0",
      "model_name": "LayoutModel",
      "state": {}
     },
     "1ddea87b98f443dfb9bce9256f0e9ace": {
      "model_module": "@jupyter-widgets/controls",
      "model_module_version": "1.5.0",
      "model_name": "HBoxModel",
      "state": {
       "children": [
        "IPY_MODEL_b62475a71f324ef38011c5e3b0d3c4b1",
        "IPY_MODEL_6e135267217e43b5a9ecf18e24e0e0dc"
       ],
       "layout": "IPY_MODEL_2adc723a562b412082c9664dcfe39d86"
      }
     },
     "1e3cb0c6bfb74c3b9acf6ab6a9ff0633": {
      "model_module": "@jupyter-widgets/base",
      "model_module_version": "1.2.0",
      "model_name": "LayoutModel",
      "state": {}
     },
     "2218beef0a4b4b5292efdf69d089f332": {
      "model_module": "@jupyter-widgets/base",
      "model_module_version": "1.2.0",
      "model_name": "LayoutModel",
      "state": {}
     },
     "2294a29bd24941659a00defb23e6e653": {
      "model_module": "@jupyter-widgets/base",
      "model_module_version": "1.2.0",
      "model_name": "LayoutModel",
      "state": {}
     },
     "235ec1a8da6745569f3206bb3a5fa533": {
      "model_module": "@jupyter-widgets/base",
      "model_module_version": "1.2.0",
      "model_name": "LayoutModel",
      "state": {}
     },
     "2407365bf13d46c6bf9eb87d5c9fe2a6": {
      "model_module": "@jupyter-widgets/controls",
      "model_module_version": "1.5.0",
      "model_name": "DescriptionStyleModel",
      "state": {
       "description_width": ""
      }
     },
     "2452ae37549e49239b9e682ec0897f9b": {
      "model_module": "@jupyter-widgets/base",
      "model_module_version": "1.2.0",
      "model_name": "LayoutModel",
      "state": {}
     },
     "24d7e2597b28423a9aa8eb61c308ffec": {
      "model_module": "@jupyter-widgets/base",
      "model_module_version": "1.2.0",
      "model_name": "LayoutModel",
      "state": {}
     },
     "2592f41bfb5c41d7a07ce2287dfe6b6d": {
      "model_module": "@jupyter-widgets/base",
      "model_module_version": "1.2.0",
      "model_name": "LayoutModel",
      "state": {}
     },
     "279112a106a9489db4a0850307d3ee16": {
      "model_module": "@jupyter-widgets/base",
      "model_module_version": "1.2.0",
      "model_name": "LayoutModel",
      "state": {}
     },
     "27eb372d31454215ad603db2152a4380": {
      "model_module": "@jupyter-widgets/controls",
      "model_module_version": "1.5.0",
      "model_name": "FloatProgressModel",
      "state": {
       "bar_style": "success",
       "description": "100%",
       "layout": "IPY_MODEL_e564555c67014deb881db16eba8649ae",
       "max": 10,
       "style": "IPY_MODEL_da352b42f92f4eb093747d80fe2581d2",
       "value": 10
      }
     },
     "2825abcd01d644248926ed63ebe8dd3a": {
      "model_module": "@jupyter-widgets/controls",
      "model_module_version": "1.5.0",
      "model_name": "HTMLModel",
      "state": {
       "layout": "IPY_MODEL_d22400128ecf461caa7006ede3cff3fc",
       "style": "IPY_MODEL_d07b89d6a9b74c84b45a60d055164945",
       "value": " 8/8 [04:22&lt;00:00, 32.78s/it]"
      }
     },
     "2a996e4ec8fc4dffbf094b753c7002cc": {
      "model_module": "@jupyter-widgets/controls",
      "model_module_version": "1.5.0",
      "model_name": "HBoxModel",
      "state": {
       "children": [
        "IPY_MODEL_1ad796ce089d4db192f63c8f4ac932ef",
        "IPY_MODEL_390f883323fb4ee49c41db01a88f5e3b"
       ],
       "layout": "IPY_MODEL_a7aed60d8f2641be8cffe1094eaae2e8"
      }
     },
     "2adc723a562b412082c9664dcfe39d86": {
      "model_module": "@jupyter-widgets/base",
      "model_module_version": "1.2.0",
      "model_name": "LayoutModel",
      "state": {}
     },
     "2aef009001f348c2af74532a6d4a7b2c": {
      "model_module": "@jupyter-widgets/base",
      "model_module_version": "1.2.0",
      "model_name": "LayoutModel",
      "state": {}
     },
     "2b5c622c4e4449d0aa12a8e67bfb6514": {
      "model_module": "@jupyter-widgets/controls",
      "model_module_version": "1.5.0",
      "model_name": "HTMLModel",
      "state": {
       "layout": "IPY_MODEL_35e2d8aed055487194d0bdb52d0a4e2a",
       "style": "IPY_MODEL_776c82a95323408a8a5839caa137cf60",
       "value": " 10/10 [04:04&lt;00:00, 24.42s/it]"
      }
     },
     "2bd526288c0d43b190235e672e712c66": {
      "model_module": "@jupyter-widgets/base",
      "model_module_version": "1.2.0",
      "model_name": "LayoutModel",
      "state": {}
     },
     "2d4c5590c9384bb09b7d7e4534eaac0a": {
      "model_module": "@jupyter-widgets/base",
      "model_module_version": "1.2.0",
      "model_name": "LayoutModel",
      "state": {}
     },
     "2f47bd67a4fa447dbc8cc5e3b36de965": {
      "model_module": "@jupyter-widgets/base",
      "model_module_version": "1.2.0",
      "model_name": "LayoutModel",
      "state": {}
     },
     "2f4da82998e546679478b32ee412ab1c": {
      "model_module": "@jupyter-widgets/controls",
      "model_module_version": "1.5.0",
      "model_name": "DescriptionStyleModel",
      "state": {
       "description_width": ""
      }
     },
     "2fe0294a25574430bad64000d21057e7": {
      "model_module": "@jupyter-widgets/controls",
      "model_module_version": "1.5.0",
      "model_name": "HTMLModel",
      "state": {
       "layout": "IPY_MODEL_dfef939eafd541ffad26bb9419996242",
       "style": "IPY_MODEL_2407365bf13d46c6bf9eb87d5c9fe2a6",
       "value": " 1/1 [00:04&lt;00:00,  4.56s/it]"
      }
     },
     "30ef730482ed4290b09908d70e493763": {
      "model_module": "@jupyter-widgets/controls",
      "model_module_version": "1.5.0",
      "model_name": "DescriptionStyleModel",
      "state": {
       "description_width": ""
      }
     },
     "31e6ba70419245738db426e871d80c1a": {
      "model_module": "@jupyter-widgets/controls",
      "model_module_version": "1.5.0",
      "model_name": "HTMLModel",
      "state": {
       "layout": "IPY_MODEL_8586d8bcf5f9481f9911193c7bd4a9b8",
       "style": "IPY_MODEL_14013e8bdcff4c1eb14892cf366a8c6b",
       "value": " 0/1 [03:28&lt;?, ?it/s]"
      }
     },
     "3332371c7ad84e98a6264c7ee8767a8a": {
      "model_module": "@jupyter-widgets/controls",
      "model_module_version": "1.5.0",
      "model_name": "FloatProgressModel",
      "state": {
       "bar_style": "success",
       "description": "100%",
       "layout": "IPY_MODEL_f504ef636531471581694dbbeef57776",
       "max": 1,
       "style": "IPY_MODEL_0afd036360ae4cdb83d4b2ba2eb68ed8",
       "value": 1
      }
     },
     "343ba7f1b33e4758b2f18bf76ce3a262": {
      "model_module": "@jupyter-widgets/controls",
      "model_module_version": "1.5.0",
      "model_name": "HTMLModel",
      "state": {
       "layout": "IPY_MODEL_8f665d1c4b9344e99705392c806149a2",
       "style": "IPY_MODEL_ce3ed29c45924601b139ddf7aa6c5246",
       "value": " 1/1 [00:04&lt;00:00,  4.31s/it]"
      }
     },
     "35326a43328f4726a9d326c37a0bccf8": {
      "model_module": "@jupyter-widgets/controls",
      "model_module_version": "1.5.0",
      "model_name": "DescriptionStyleModel",
      "state": {
       "description_width": ""
      }
     },
     "35616081e8194504bb1b920602673f20": {
      "model_module": "@jupyter-widgets/base",
      "model_module_version": "1.2.0",
      "model_name": "LayoutModel",
      "state": {}
     },
     "35e2d8aed055487194d0bdb52d0a4e2a": {
      "model_module": "@jupyter-widgets/base",
      "model_module_version": "1.2.0",
      "model_name": "LayoutModel",
      "state": {}
     },
     "360cf1293b494d56b2d00e0ffb152336": {
      "model_module": "@jupyter-widgets/base",
      "model_module_version": "1.2.0",
      "model_name": "LayoutModel",
      "state": {}
     },
     "36d13d87a92942078808766930705ce2": {
      "model_module": "@jupyter-widgets/controls",
      "model_module_version": "1.5.0",
      "model_name": "ProgressStyleModel",
      "state": {
       "description_width": "initial"
      }
     },
     "385bf99d2bf0443b94ecacd7a0699248": {
      "model_module": "@jupyter-widgets/controls",
      "model_module_version": "1.5.0",
      "model_name": "DescriptionStyleModel",
      "state": {
       "description_width": ""
      }
     },
     "38da077260ca47959e2b098975fd7c6e": {
      "model_module": "@jupyter-widgets/base",
      "model_module_version": "1.2.0",
      "model_name": "LayoutModel",
      "state": {}
     },
     "390f883323fb4ee49c41db01a88f5e3b": {
      "model_module": "@jupyter-widgets/controls",
      "model_module_version": "1.5.0",
      "model_name": "HTMLModel",
      "state": {
       "layout": "IPY_MODEL_4dd1e3d1207a41ab9cab250836ee7596",
       "style": "IPY_MODEL_2f4da82998e546679478b32ee412ab1c",
       "value": " 1/1 [00:04&lt;00:00,  4.17s/it]"
      }
     },
     "3983b4d23b764daea60260e10c31efc9": {
      "model_module": "@jupyter-widgets/controls",
      "model_module_version": "1.5.0",
      "model_name": "FloatProgressModel",
      "state": {
       "bar_style": "success",
       "description": "100%",
       "layout": "IPY_MODEL_235ec1a8da6745569f3206bb3a5fa533",
       "max": 1,
       "style": "IPY_MODEL_3d5e9965ea3442d789393a21e7863d1b",
       "value": 1
      }
     },
     "3a60463c87ba4b34a05d71ccc1787c29": {
      "model_module": "@jupyter-widgets/base",
      "model_module_version": "1.2.0",
      "model_name": "LayoutModel",
      "state": {}
     },
     "3ba6badfc78846b78ddf9c4616e0a756": {
      "model_module": "@jupyter-widgets/base",
      "model_module_version": "1.2.0",
      "model_name": "LayoutModel",
      "state": {}
     },
     "3c0a4b9a751d4a19850779d4255ec5a0": {
      "model_module": "@jupyter-widgets/controls",
      "model_module_version": "1.5.0",
      "model_name": "HBoxModel",
      "state": {
       "children": [
        "IPY_MODEL_7b902862ddeb4e279b1b691c7f9464dd",
        "IPY_MODEL_bb9600df0d8e4288923e39a3aaca4302"
       ],
       "layout": "IPY_MODEL_0887f44abf0445d5ae4b2f6a4327a4d4"
      }
     },
     "3d16807abab643d7b04f9d8de8c7518d": {
      "model_module": "@jupyter-widgets/controls",
      "model_module_version": "1.5.0",
      "model_name": "HBoxModel",
      "state": {
       "children": [
        "IPY_MODEL_27eb372d31454215ad603db2152a4380",
        "IPY_MODEL_0af62513df7d4d52aec444c5261825e5"
       ],
       "layout": "IPY_MODEL_4dea2a6f9d7c4e12becdffb7e120810d"
      }
     },
     "3d46990b50374b0291d435fbf0cf4572": {
      "model_module": "@jupyter-widgets/controls",
      "model_module_version": "1.5.0",
      "model_name": "HBoxModel",
      "state": {
       "children": [
        "IPY_MODEL_5baa27c7d6dc41c5831ca971278ff4c3",
        "IPY_MODEL_7617463175584d439696efb533941ff7"
       ],
       "layout": "IPY_MODEL_9dc532f5d91e44a2be7fe1a1f12dfb76"
      }
     },
     "3d5e9965ea3442d789393a21e7863d1b": {
      "model_module": "@jupyter-widgets/controls",
      "model_module_version": "1.5.0",
      "model_name": "ProgressStyleModel",
      "state": {
       "description_width": "initial"
      }
     },
     "3f7385e43b804dd4ae72a729e8a80e71": {
      "model_module": "@jupyter-widgets/controls",
      "model_module_version": "1.5.0",
      "model_name": "ProgressStyleModel",
      "state": {
       "description_width": "initial"
      }
     },
     "3f9211b81bea4a03a976cf89399596e2": {
      "model_module": "@jupyter-widgets/controls",
      "model_module_version": "1.5.0",
      "model_name": "HBoxModel",
      "state": {
       "children": [
        "IPY_MODEL_d2d90b6eda134e33a91284181c511365",
        "IPY_MODEL_14849736894f4dc49c1f8971c52150f8"
       ],
       "layout": "IPY_MODEL_35616081e8194504bb1b920602673f20"
      }
     },
     "405133b20acc4bf9a6aadb8a14543ae4": {
      "model_module": "@jupyter-widgets/base",
      "model_module_version": "1.2.0",
      "model_name": "LayoutModel",
      "state": {}
     },
     "44852297828b442db5a1ddb435b7ac87": {
      "model_module": "@jupyter-widgets/base",
      "model_module_version": "1.2.0",
      "model_name": "LayoutModel",
      "state": {}
     },
     "451f690c151045789438031b5da1436f": {
      "model_module": "@jupyter-widgets/base",
      "model_module_version": "1.2.0",
      "model_name": "LayoutModel",
      "state": {}
     },
     "45a1a3d60f9f42f3b766a0e7a021d4ed": {
      "model_module": "@jupyter-widgets/base",
      "model_module_version": "1.2.0",
      "model_name": "LayoutModel",
      "state": {}
     },
     "46376214ea69437182d3794a160a3818": {
      "model_module": "@jupyter-widgets/base",
      "model_module_version": "1.2.0",
      "model_name": "LayoutModel",
      "state": {}
     },
     "467850d3c60d4cf4ba1c239462f71b16": {
      "model_module": "@jupyter-widgets/base",
      "model_module_version": "1.2.0",
      "model_name": "LayoutModel",
      "state": {}
     },
     "4789c2ba23e24d28a258a7b5acf999e0": {
      "model_module": "@jupyter-widgets/controls",
      "model_module_version": "1.5.0",
      "model_name": "HTMLModel",
      "state": {
       "layout": "IPY_MODEL_5d08d2f6fdaf461fbf2cfc7856ae7147",
       "style": "IPY_MODEL_c8b870cfb1e34e52bf002a33a30964e5",
       "value": " 1/1 [00:04&lt;00:00,  4.19s/it]"
      }
     },
     "4895cc29b2d74d0b95676fae932eecfe": {
      "model_module": "@jupyter-widgets/base",
      "model_module_version": "1.2.0",
      "model_name": "LayoutModel",
      "state": {}
     },
     "48cb133185cb41b3b710e5f55fed1d41": {
      "model_module": "@jupyter-widgets/controls",
      "model_module_version": "1.5.0",
      "model_name": "DescriptionStyleModel",
      "state": {
       "description_width": ""
      }
     },
     "48db9da60fad4976be169d4d152aec94": {
      "model_module": "@jupyter-widgets/base",
      "model_module_version": "1.2.0",
      "model_name": "LayoutModel",
      "state": {}
     },
     "49331853d57b46d5ac9712efcc3538f0": {
      "model_module": "@jupyter-widgets/controls",
      "model_module_version": "1.5.0",
      "model_name": "FloatProgressModel",
      "state": {
       "bar_style": "success",
       "description": "100%",
       "layout": "IPY_MODEL_4bba6c52fbe24d13a7c0363581bdf164",
       "max": 8,
       "style": "IPY_MODEL_ac53cd4ff89443138dccdbf0d63d4f1b",
       "value": 8
      }
     },
     "49890ff9bd0d42909949aac5193efde3": {
      "model_module": "@jupyter-widgets/base",
      "model_module_version": "1.2.0",
      "model_name": "LayoutModel",
      "state": {}
     },
     "49a4d66463c149f09725f762824f1647": {
      "model_module": "@jupyter-widgets/controls",
      "model_module_version": "1.5.0",
      "model_name": "HBoxModel",
      "state": {
       "children": [
        "IPY_MODEL_10cf479fc8774bee8d4107387de9caa2",
        "IPY_MODEL_0c60c08b3bb0477eab260fcf1bc3f3de"
       ],
       "layout": "IPY_MODEL_d1b343911bf245d5b8318580433f10de"
      }
     },
     "4a161c1356184732bf7e5f2be4969303": {
      "model_module": "@jupyter-widgets/controls",
      "model_module_version": "1.5.0",
      "model_name": "HBoxModel",
      "state": {
       "children": [
        "IPY_MODEL_3983b4d23b764daea60260e10c31efc9",
        "IPY_MODEL_6508e2aaa6ad4c56a8f24de68c48ba1d"
       ],
       "layout": "IPY_MODEL_0628b9292b16414a85ddf1749737fb39"
      }
     },
     "4a49b1fac98145ecba3e976d1c2f36b7": {
      "model_module": "@jupyter-widgets/controls",
      "model_module_version": "1.5.0",
      "model_name": "FloatProgressModel",
      "state": {
       "bar_style": "success",
       "description": "100%",
       "layout": "IPY_MODEL_813fae4f31a04bc9934cb5f1c5d106bf",
       "max": 1,
       "style": "IPY_MODEL_3f7385e43b804dd4ae72a729e8a80e71",
       "value": 1
      }
     },
     "4a7d8ad4950143b2b12d78d1b0f5768e": {
      "model_module": "@jupyter-widgets/controls",
      "model_module_version": "1.5.0",
      "model_name": "HTMLModel",
      "state": {
       "layout": "IPY_MODEL_bdc38240cd804f9a93b65abd4d60fd4d",
       "style": "IPY_MODEL_0fb32284e0ee4a9d87ba86dbc3d7b977",
       "value": " 1/1 [00:04&lt;00:00,  4.47s/it]"
      }
     },
     "4bba6c52fbe24d13a7c0363581bdf164": {
      "model_module": "@jupyter-widgets/base",
      "model_module_version": "1.2.0",
      "model_name": "LayoutModel",
      "state": {}
     },
     "4c18c92b365d459fa9d29a3c430e7fa7": {
      "model_module": "@jupyter-widgets/base",
      "model_module_version": "1.2.0",
      "model_name": "LayoutModel",
      "state": {}
     },
     "4c79588ff3f6427fa506180487e502fd": {
      "model_module": "@jupyter-widgets/controls",
      "model_module_version": "1.5.0",
      "model_name": "HBoxModel",
      "state": {
       "children": [
        "IPY_MODEL_fe8713b73b424073865a9ee802dad38a",
        "IPY_MODEL_343ba7f1b33e4758b2f18bf76ce3a262"
       ],
       "layout": "IPY_MODEL_7f7c6c58d4fa4492a0597a503db3781f"
      }
     },
     "4d12dffd26fc4661b5c543a37f8c4914": {
      "model_module": "@jupyter-widgets/base",
      "model_module_version": "1.2.0",
      "model_name": "LayoutModel",
      "state": {}
     },
     "4dd1e3d1207a41ab9cab250836ee7596": {
      "model_module": "@jupyter-widgets/base",
      "model_module_version": "1.2.0",
      "model_name": "LayoutModel",
      "state": {}
     },
     "4dea2a6f9d7c4e12becdffb7e120810d": {
      "model_module": "@jupyter-widgets/base",
      "model_module_version": "1.2.0",
      "model_name": "LayoutModel",
      "state": {}
     },
     "4df0b122b7864a519a6f025d45009eca": {
      "model_module": "@jupyter-widgets/base",
      "model_module_version": "1.2.0",
      "model_name": "LayoutModel",
      "state": {}
     },
     "4e5e553b5402419fb2f7eefdfc1cfbe7": {
      "model_module": "@jupyter-widgets/base",
      "model_module_version": "1.2.0",
      "model_name": "LayoutModel",
      "state": {}
     },
     "4f7bd213861440d9b88232bcc1ded39a": {
      "model_module": "@jupyter-widgets/controls",
      "model_module_version": "1.5.0",
      "model_name": "HTMLModel",
      "state": {
       "layout": "IPY_MODEL_48db9da60fad4976be169d4d152aec94",
       "style": "IPY_MODEL_385bf99d2bf0443b94ecacd7a0699248",
       "value": " 1/1 [00:03&lt;00:00,  3.95s/it]"
      }
     },
     "4fb7d76670d242c28efc5a280bd85800": {
      "model_module": "@jupyter-widgets/base",
      "model_module_version": "1.2.0",
      "model_name": "LayoutModel",
      "state": {}
     },
     "50bbc7acfc3e4b578d69d7caf818f3b0": {
      "model_module": "@jupyter-widgets/controls",
      "model_module_version": "1.5.0",
      "model_name": "ProgressStyleModel",
      "state": {
       "description_width": "initial"
      }
     },
     "51f3db385148460fa88bfb01252c9a84": {
      "model_module": "@jupyter-widgets/controls",
      "model_module_version": "1.5.0",
      "model_name": "HBoxModel",
      "state": {
       "children": [
        "IPY_MODEL_b50bce60b67747519589b5790b6e683a",
        "IPY_MODEL_e89c0312168446b2806a80314bb7bd0c"
       ],
       "layout": "IPY_MODEL_2bd526288c0d43b190235e672e712c66"
      }
     },
     "52061007d7154bf080592e0cb5ea3684": {
      "model_module": "@jupyter-widgets/base",
      "model_module_version": "1.2.0",
      "model_name": "LayoutModel",
      "state": {}
     },
     "5254f4e4788b49adbdc10bfae27eb461": {
      "model_module": "@jupyter-widgets/base",
      "model_module_version": "1.2.0",
      "model_name": "LayoutModel",
      "state": {}
     },
     "5493e87add2445ab9f604f6e32967448": {
      "model_module": "@jupyter-widgets/controls",
      "model_module_version": "1.5.0",
      "model_name": "HTMLModel",
      "state": {
       "layout": "IPY_MODEL_f1630bf8118b4141bb73fad66e562526",
       "style": "IPY_MODEL_f504b3ef8f13406891e57c2e81a09817",
       "value": " 8/8 [04:07&lt;00:00, 31.00s/it]"
      }
     },
     "555dbb3e642b40be9af19ce0ac3394d6": {
      "model_module": "@jupyter-widgets/controls",
      "model_module_version": "1.5.0",
      "model_name": "FloatProgressModel",
      "state": {
       "bar_style": "success",
       "description": "100%",
       "layout": "IPY_MODEL_008129a85c2c4fcc9dc38d1e270cf615",
       "max": 1,
       "style": "IPY_MODEL_9b61b2584d384379893987d3b2d1420f",
       "value": 1
      }
     },
     "573ac2e63389433bb870a8a78b45634f": {
      "model_module": "@jupyter-widgets/controls",
      "model_module_version": "1.5.0",
      "model_name": "HTMLModel",
      "state": {
       "layout": "IPY_MODEL_19498102993d40a68a14176cb232c157",
       "style": "IPY_MODEL_b867c62cf2e94212b017144edfca9cd4",
       "value": " 1/1 [00:04&lt;00:00,  4.16s/it]"
      }
     },
     "58f0b5c9e21348f6bc89a569bd237bcb": {
      "model_module": "@jupyter-widgets/controls",
      "model_module_version": "1.5.0",
      "model_name": "HBoxModel",
      "state": {
       "children": [
        "IPY_MODEL_96203b85092841d08ea59ee2fa78a3ea",
        "IPY_MODEL_2b5c622c4e4449d0aa12a8e67bfb6514"
       ],
       "layout": "IPY_MODEL_abf329f00a194b1a8089e983664f4cc6"
      }
     },
     "59188bda8a2f4300bc9619f582373729": {
      "model_module": "@jupyter-widgets/controls",
      "model_module_version": "1.5.0",
      "model_name": "HBoxModel",
      "state": {
       "children": [
        "IPY_MODEL_aa58cef451594770b696aff4beafbcd1",
        "IPY_MODEL_7296aada70204b78b40f0065c10e3bc6"
       ],
       "layout": "IPY_MODEL_b87f60485d3849429cbb1b7edd034677"
      }
     },
     "594ed28032ad4b5a83d0331fe7d67714": {
      "model_module": "@jupyter-widgets/controls",
      "model_module_version": "1.5.0",
      "model_name": "DescriptionStyleModel",
      "state": {
       "description_width": ""
      }
     },
     "59606259555a4be8b0bf753ef004fc9f": {
      "model_module": "@jupyter-widgets/base",
      "model_module_version": "1.2.0",
      "model_name": "LayoutModel",
      "state": {}
     },
     "5ab4c43c2be54ae88146717dfd974535": {
      "model_module": "@jupyter-widgets/controls",
      "model_module_version": "1.5.0",
      "model_name": "HBoxModel",
      "state": {
       "children": [
        "IPY_MODEL_96e287c18484431c9db9433ca93d4bb0",
        "IPY_MODEL_31e6ba70419245738db426e871d80c1a"
       ],
       "layout": "IPY_MODEL_ed1f68dc4fdb464aa7ae16548210a9df"
      }
     },
     "5b1c12d52b1f4211bdea5a4878bb6a43": {
      "model_module": "@jupyter-widgets/controls",
      "model_module_version": "1.5.0",
      "model_name": "ProgressStyleModel",
      "state": {
       "description_width": "initial"
      }
     },
     "5b7ec564fc584e7d8787a5f73daad68d": {
      "model_module": "@jupyter-widgets/controls",
      "model_module_version": "1.5.0",
      "model_name": "ProgressStyleModel",
      "state": {
       "description_width": "initial"
      }
     },
     "5baa27c7d6dc41c5831ca971278ff4c3": {
      "model_module": "@jupyter-widgets/controls",
      "model_module_version": "1.5.0",
      "model_name": "FloatProgressModel",
      "state": {
       "bar_style": "success",
       "description": "100%",
       "layout": "IPY_MODEL_e117a1cf5814427bbc2a722ddf10ad38",
       "max": 1,
       "style": "IPY_MODEL_6b424778029f468db0ad41c35cad108b",
       "value": 1
      }
     },
     "5bb6622ef309414c96f956587a6b7ed2": {
      "model_module": "@jupyter-widgets/base",
      "model_module_version": "1.2.0",
      "model_name": "LayoutModel",
      "state": {}
     },
     "5d08d2f6fdaf461fbf2cfc7856ae7147": {
      "model_module": "@jupyter-widgets/base",
      "model_module_version": "1.2.0",
      "model_name": "LayoutModel",
      "state": {}
     },
     "5d42f2163a414bbda2730199a5810c4c": {
      "model_module": "@jupyter-widgets/controls",
      "model_module_version": "1.5.0",
      "model_name": "FloatProgressModel",
      "state": {
       "bar_style": "success",
       "description": "100%",
       "layout": "IPY_MODEL_405133b20acc4bf9a6aadb8a14543ae4",
       "max": 1,
       "style": "IPY_MODEL_faa0712304b1401095e7ff3f5d4d701b",
       "value": 1
      }
     },
     "5db4f06a75f14d32aec520bf332207bf": {
      "model_module": "@jupyter-widgets/controls",
      "model_module_version": "1.5.0",
      "model_name": "FloatProgressModel",
      "state": {
       "bar_style": "success",
       "description": "100%",
       "layout": "IPY_MODEL_cc98c0b1f17d43b59745fea9348653aa",
       "max": 1,
       "style": "IPY_MODEL_bbdf5d28089c4499902f08b302445027",
       "value": 1
      }
     },
     "5debcd862b7e4b2b9760243f03f86bf3": {
      "model_module": "@jupyter-widgets/controls",
      "model_module_version": "1.5.0",
      "model_name": "HTMLModel",
      "state": {
       "layout": "IPY_MODEL_2aef009001f348c2af74532a6d4a7b2c",
       "style": "IPY_MODEL_f418ed0fe23d4cdb986f0ba659e2475a",
       "value": " 1/1 [00:03&lt;00:00,  3.77s/it]"
      }
     },
     "5f88530d6c304dca80f1fe40cce90fd4": {
      "model_module": "@jupyter-widgets/base",
      "model_module_version": "1.2.0",
      "model_name": "LayoutModel",
      "state": {}
     },
     "6471e34dc5684fd1b856139a6f0d9917": {
      "model_module": "@jupyter-widgets/base",
      "model_module_version": "1.2.0",
      "model_name": "LayoutModel",
      "state": {}
     },
     "6508e2aaa6ad4c56a8f24de68c48ba1d": {
      "model_module": "@jupyter-widgets/controls",
      "model_module_version": "1.5.0",
      "model_name": "HTMLModel",
      "state": {
       "layout": "IPY_MODEL_4e5e553b5402419fb2f7eefdfc1cfbe7",
       "style": "IPY_MODEL_db6b664ffdea414cbb553b5708a34c7e",
       "value": " 1/1 [00:03&lt;00:00,  3.85s/it]"
      }
     },
     "6621d09f2e8041838f3084d2fb32ef8a": {
      "model_module": "@jupyter-widgets/controls",
      "model_module_version": "1.5.0",
      "model_name": "DescriptionStyleModel",
      "state": {
       "description_width": ""
      }
     },
     "6674e40ff9c24737bb7c4920d6abf8a7": {
      "model_module": "@jupyter-widgets/controls",
      "model_module_version": "1.5.0",
      "model_name": "FloatProgressModel",
      "state": {
       "bar_style": "success",
       "description": "100%",
       "layout": "IPY_MODEL_19a3206bb4474c6fa2d4fc807e1195c9",
       "max": 1,
       "style": "IPY_MODEL_b25777203a6f4e8a863f735086df4a9a",
       "value": 1
      }
     },
     "693a13f2195c4f218f83e93a9076c8b5": {
      "model_module": "@jupyter-widgets/controls",
      "model_module_version": "1.5.0",
      "model_name": "HBoxModel",
      "state": {
       "children": [
        "IPY_MODEL_49331853d57b46d5ac9712efcc3538f0",
        "IPY_MODEL_2825abcd01d644248926ed63ebe8dd3a"
       ],
       "layout": "IPY_MODEL_2592f41bfb5c41d7a07ce2287dfe6b6d"
      }
     },
     "6a08cc9e04e745729ba779692284a1bc": {
      "model_module": "@jupyter-widgets/controls",
      "model_module_version": "1.5.0",
      "model_name": "FloatProgressModel",
      "state": {
       "bar_style": "success",
       "description": "100%",
       "layout": "IPY_MODEL_bf5855f43033499b8f2bd004008606f7",
       "max": 1,
       "style": "IPY_MODEL_db75a7af9b4b45a8b9542193592d03c5",
       "value": 1
      }
     },
     "6b424778029f468db0ad41c35cad108b": {
      "model_module": "@jupyter-widgets/controls",
      "model_module_version": "1.5.0",
      "model_name": "ProgressStyleModel",
      "state": {
       "description_width": "initial"
      }
     },
     "6b9682f0494a4241b8e5e185576af364": {
      "model_module": "@jupyter-widgets/controls",
      "model_module_version": "1.5.0",
      "model_name": "FloatProgressModel",
      "state": {
       "bar_style": "success",
       "description": "100%",
       "layout": "IPY_MODEL_bbbb53c161bd4b1abcc34c3d7533aba7",
       "max": 1,
       "style": "IPY_MODEL_36d13d87a92942078808766930705ce2",
       "value": 1
      }
     },
     "6c03b76a31f044a28e5075c8f9ab32db": {
      "model_module": "@jupyter-widgets/base",
      "model_module_version": "1.2.0",
      "model_name": "LayoutModel",
      "state": {}
     },
     "6e135267217e43b5a9ecf18e24e0e0dc": {
      "model_module": "@jupyter-widgets/controls",
      "model_module_version": "1.5.0",
      "model_name": "HTMLModel",
      "state": {
       "layout": "IPY_MODEL_4d12dffd26fc4661b5c543a37f8c4914",
       "style": "IPY_MODEL_7798914b4850460bbf52e157a9b6bb6a",
       "value": " 1/1 [02:41&lt;00:00, 161.58s/it]"
      }
     },
     "6f1e363bf45645e6a7c0cd99d7e319ec": {
      "model_module": "@jupyter-widgets/controls",
      "model_module_version": "1.5.0",
      "model_name": "HTMLModel",
      "state": {
       "layout": "IPY_MODEL_b1d0e2d8d3eb4f8384104c30ba98fd90",
       "style": "IPY_MODEL_a8b2ad5d5cfb43829a9839f87b23ebf3",
       "value": " 1/1 [00:04&lt;00:00,  4.07s/it]"
      }
     },
     "6f83fababf674ae9aa6b3090ea93cc2c": {
      "model_module": "@jupyter-widgets/controls",
      "model_module_version": "1.5.0",
      "model_name": "HTMLModel",
      "state": {
       "layout": "IPY_MODEL_4fb7d76670d242c28efc5a280bd85800",
       "style": "IPY_MODEL_6621d09f2e8041838f3084d2fb32ef8a",
       "value": " 1/1 [00:03&lt;00:00,  3.88s/it]"
      }
     },
     "6fcf91862ef14b6abd7d8ff509061629": {
      "model_module": "@jupyter-widgets/controls",
      "model_module_version": "1.5.0",
      "model_name": "ProgressStyleModel",
      "state": {
       "description_width": "initial"
      }
     },
     "723d574cc3334d07b5448b76913987c2": {
      "model_module": "@jupyter-widgets/controls",
      "model_module_version": "1.5.0",
      "model_name": "ProgressStyleModel",
      "state": {
       "description_width": "initial"
      }
     },
     "724b944bb70448159980153060bbb7b0": {
      "model_module": "@jupyter-widgets/base",
      "model_module_version": "1.2.0",
      "model_name": "LayoutModel",
      "state": {}
     },
     "7296aada70204b78b40f0065c10e3bc6": {
      "model_module": "@jupyter-widgets/controls",
      "model_module_version": "1.5.0",
      "model_name": "HTMLModel",
      "state": {
       "layout": "IPY_MODEL_1949754cae5d4ee7ad48f518098f66cf",
       "style": "IPY_MODEL_13eaef4aa7bb41658f91b685d5e68e98",
       "value": " 8/8 [02:51&lt;00:00, 21.47s/it]"
      }
     },
     "7496dde861ee445d937d7cec8ae79b5d": {
      "model_module": "@jupyter-widgets/controls",
      "model_module_version": "1.5.0",
      "model_name": "ProgressStyleModel",
      "state": {
       "description_width": "initial"
      }
     },
     "74a61585164947f19f78b27acc352504": {
      "model_module": "@jupyter-widgets/controls",
      "model_module_version": "1.5.0",
      "model_name": "ProgressStyleModel",
      "state": {
       "description_width": "initial"
      }
     },
     "7617463175584d439696efb533941ff7": {
      "model_module": "@jupyter-widgets/controls",
      "model_module_version": "1.5.0",
      "model_name": "HTMLModel",
      "state": {
       "layout": "IPY_MODEL_52061007d7154bf080592e0cb5ea3684",
       "style": "IPY_MODEL_7666f57a17ae438b99fc5cc64cb90fe9",
       "value": " 1/1 [09:35&lt;00:00, 575.55s/it]"
      }
     },
     "7666f57a17ae438b99fc5cc64cb90fe9": {
      "model_module": "@jupyter-widgets/controls",
      "model_module_version": "1.5.0",
      "model_name": "DescriptionStyleModel",
      "state": {
       "description_width": ""
      }
     },
     "776c82a95323408a8a5839caa137cf60": {
      "model_module": "@jupyter-widgets/controls",
      "model_module_version": "1.5.0",
      "model_name": "DescriptionStyleModel",
      "state": {
       "description_width": ""
      }
     },
     "779401127c2a4f8caebeea31ef13be2d": {
      "model_module": "@jupyter-widgets/controls",
      "model_module_version": "1.5.0",
      "model_name": "DescriptionStyleModel",
      "state": {
       "description_width": ""
      }
     },
     "7798914b4850460bbf52e157a9b6bb6a": {
      "model_module": "@jupyter-widgets/controls",
      "model_module_version": "1.5.0",
      "model_name": "DescriptionStyleModel",
      "state": {
       "description_width": ""
      }
     },
     "77a61adfad8c46208d883d4ae3da6a25": {
      "model_module": "@jupyter-widgets/base",
      "model_module_version": "1.2.0",
      "model_name": "LayoutModel",
      "state": {}
     },
     "783670e79ef54c7890cf4d9fe636e152": {
      "model_module": "@jupyter-widgets/controls",
      "model_module_version": "1.5.0",
      "model_name": "ProgressStyleModel",
      "state": {
       "description_width": "initial"
      }
     },
     "7b902862ddeb4e279b1b691c7f9464dd": {
      "model_module": "@jupyter-widgets/controls",
      "model_module_version": "1.5.0",
      "model_name": "FloatProgressModel",
      "state": {
       "bar_style": "success",
       "description": "100%",
       "layout": "IPY_MODEL_3a60463c87ba4b34a05d71ccc1787c29",
       "max": 10,
       "style": "IPY_MODEL_723d574cc3334d07b5448b76913987c2",
       "value": 10
      }
     },
     "7d19d9ee40e14f408b83c7206342793f": {
      "model_module": "@jupyter-widgets/controls",
      "model_module_version": "1.5.0",
      "model_name": "HTMLModel",
      "state": {
       "layout": "IPY_MODEL_9503d548fdaf4887b3f9e8b74b7a969b",
       "style": "IPY_MODEL_a8351423145c47f8ac0168894ed05e51",
       "value": " 1/1 [06:04&lt;00:00, 364.79s/it]"
      }
     },
     "7f7c6c58d4fa4492a0597a503db3781f": {
      "model_module": "@jupyter-widgets/base",
      "model_module_version": "1.2.0",
      "model_name": "LayoutModel",
      "state": {}
     },
     "7ff5ee61380a43a6b4db4628729ec741": {
      "model_module": "@jupyter-widgets/controls",
      "model_module_version": "1.5.0",
      "model_name": "FloatProgressModel",
      "state": {
       "bar_style": "success",
       "description": "100%",
       "layout": "IPY_MODEL_8d3e3f3f229b4723bdb4c6dbfb289f23",
       "max": 8,
       "style": "IPY_MODEL_d63e96c353b548f7807d1706b80874d1",
       "value": 8
      }
     },
     "80a692f41fa54c40b040e7537bac891c": {
      "model_module": "@jupyter-widgets/base",
      "model_module_version": "1.2.0",
      "model_name": "LayoutModel",
      "state": {}
     },
     "80afffbb7b424c49af6a8ff3bdc08d0d": {
      "model_module": "@jupyter-widgets/controls",
      "model_module_version": "1.5.0",
      "model_name": "HBoxModel",
      "state": {
       "children": [
        "IPY_MODEL_ce3268fc3812407e9fc9c971ba1e3980",
        "IPY_MODEL_d0a15d5c07374e38a40684655383077d"
       ],
       "layout": "IPY_MODEL_4df0b122b7864a519a6f025d45009eca"
      }
     },
     "813fae4f31a04bc9934cb5f1c5d106bf": {
      "model_module": "@jupyter-widgets/base",
      "model_module_version": "1.2.0",
      "model_name": "LayoutModel",
      "state": {}
     },
     "82a1ecdf9317429793ae783364d2f7c4": {
      "model_module": "@jupyter-widgets/controls",
      "model_module_version": "1.5.0",
      "model_name": "HBoxModel",
      "state": {
       "children": [
        "IPY_MODEL_7ff5ee61380a43a6b4db4628729ec741",
        "IPY_MODEL_91e910bdadae409aa3aab0722c1899ea"
       ],
       "layout": "IPY_MODEL_2f47bd67a4fa447dbc8cc5e3b36de965"
      }
     },
     "82f721fe06b2416db82551cb4f2d5d36": {
      "model_module": "@jupyter-widgets/base",
      "model_module_version": "1.2.0",
      "model_name": "LayoutModel",
      "state": {}
     },
     "844b3ab3fb284425a6a57a903ccfa4e1": {
      "model_module": "@jupyter-widgets/controls",
      "model_module_version": "1.5.0",
      "model_name": "FloatProgressModel",
      "state": {
       "bar_style": "success",
       "description": "100%",
       "layout": "IPY_MODEL_82f721fe06b2416db82551cb4f2d5d36",
       "max": 1,
       "style": "IPY_MODEL_944e7790dd10445b8652a018d64dca4f",
       "value": 1
      }
     },
     "84e27c617da84b038365aa0f4e6bd445": {
      "model_module": "@jupyter-widgets/base",
      "model_module_version": "1.2.0",
      "model_name": "LayoutModel",
      "state": {}
     },
     "8586d8bcf5f9481f9911193c7bd4a9b8": {
      "model_module": "@jupyter-widgets/base",
      "model_module_version": "1.2.0",
      "model_name": "LayoutModel",
      "state": {}
     },
     "859c87ed86114d5cbb4890947cbb9f7d": {
      "model_module": "@jupyter-widgets/controls",
      "model_module_version": "1.5.0",
      "model_name": "ProgressStyleModel",
      "state": {
       "description_width": "initial"
      }
     },
     "863b6f3cc6d84617970c901ec8a5f5c0": {
      "model_module": "@jupyter-widgets/base",
      "model_module_version": "1.2.0",
      "model_name": "LayoutModel",
      "state": {}
     },
     "863be5d4163b472e97f11b63ae4d2cc7": {
      "model_module": "@jupyter-widgets/controls",
      "model_module_version": "1.5.0",
      "model_name": "ProgressStyleModel",
      "state": {
       "description_width": "initial"
      }
     },
     "883615fc9b184de5b852de1c7fb5ec99": {
      "model_module": "@jupyter-widgets/controls",
      "model_module_version": "1.5.0",
      "model_name": "FloatProgressModel",
      "state": {
       "bar_style": "success",
       "description": "100%",
       "layout": "IPY_MODEL_4895cc29b2d74d0b95676fae932eecfe",
       "max": 1,
       "style": "IPY_MODEL_e0edb5149c644b36a61d94b514fcf82e",
       "value": 1
      }
     },
     "8a29ed0cc8274f848c293115e37af01c": {
      "model_module": "@jupyter-widgets/controls",
      "model_module_version": "1.5.0",
      "model_name": "HBoxModel",
      "state": {
       "children": [
        "IPY_MODEL_555dbb3e642b40be9af19ce0ac3394d6",
        "IPY_MODEL_b81252614af44f1aba88c1b3b43949d4"
       ],
       "layout": "IPY_MODEL_2d4c5590c9384bb09b7d7e4534eaac0a"
      }
     },
     "8b1585dd53124788ac558edc91021d3b": {
      "model_module": "@jupyter-widgets/controls",
      "model_module_version": "1.5.0",
      "model_name": "HBoxModel",
      "state": {
       "children": [
        "IPY_MODEL_e11c0a8e7c0b4f1c90648ee2736507f1",
        "IPY_MODEL_c73a555b50974f01885ae25e50159c9c"
       ],
       "layout": "IPY_MODEL_d0eb23459e0544fe94aa4ec174f0638d"
      }
     },
     "8bf644c6b39f4a13849f20f1c58e2cd2": {
      "model_module": "@jupyter-widgets/controls",
      "model_module_version": "1.5.0",
      "model_name": "HBoxModel",
      "state": {
       "children": [
        "IPY_MODEL_6a08cc9e04e745729ba779692284a1bc",
        "IPY_MODEL_4789c2ba23e24d28a258a7b5acf999e0"
       ],
       "layout": "IPY_MODEL_ab7b0584af9d4d91a265ca7afe57d704"
      }
     },
     "8c4a1d626c4a472db7789d1609c9be56": {
      "model_module": "@jupyter-widgets/base",
      "model_module_version": "1.2.0",
      "model_name": "LayoutModel",
      "state": {}
     },
     "8c539733a30d4ae1b01770ce28021fb9": {
      "model_module": "@jupyter-widgets/controls",
      "model_module_version": "1.5.0",
      "model_name": "FloatProgressModel",
      "state": {
       "bar_style": "success",
       "description": "100%",
       "layout": "IPY_MODEL_c3bb15350c3c48af868c0570e406b690",
       "max": 1,
       "style": "IPY_MODEL_7496dde861ee445d937d7cec8ae79b5d",
       "value": 1
      }
     },
     "8c7f6b11d7c7414baf32abc775062548": {
      "model_module": "@jupyter-widgets/controls",
      "model_module_version": "1.5.0",
      "model_name": "FloatProgressModel",
      "state": {
       "bar_style": "success",
       "description": "100%",
       "layout": "IPY_MODEL_2294a29bd24941659a00defb23e6e653",
       "max": 1,
       "style": "IPY_MODEL_e507b5b34e024bcfa4f4ae4c4923b4c9",
       "value": 1
      }
     },
     "8caf90de23964b59822626dd8fad9be0": {
      "model_module": "@jupyter-widgets/controls",
      "model_module_version": "1.5.0",
      "model_name": "FloatProgressModel",
      "state": {
       "bar_style": "success",
       "description": "100%",
       "layout": "IPY_MODEL_c176093ebc7e41f29b0deb8e386a0906",
       "max": 1,
       "style": "IPY_MODEL_5b7ec564fc584e7d8787a5f73daad68d",
       "value": 1
      }
     },
     "8d3e3f3f229b4723bdb4c6dbfb289f23": {
      "model_module": "@jupyter-widgets/base",
      "model_module_version": "1.2.0",
      "model_name": "LayoutModel",
      "state": {}
     },
     "8f665d1c4b9344e99705392c806149a2": {
      "model_module": "@jupyter-widgets/base",
      "model_module_version": "1.2.0",
      "model_name": "LayoutModel",
      "state": {}
     },
     "90774c04721d4ae9bdb8e4a50c172e79": {
      "model_module": "@jupyter-widgets/controls",
      "model_module_version": "1.5.0",
      "model_name": "ProgressStyleModel",
      "state": {
       "description_width": "initial"
      }
     },
     "90c6fcc1ba9e45a3b7a4392bcf1cf7f7": {
      "model_module": "@jupyter-widgets/controls",
      "model_module_version": "1.5.0",
      "model_name": "HBoxModel",
      "state": {
       "children": [
        "IPY_MODEL_e59240fd60ef4e9ba0fc534488b239a3",
        "IPY_MODEL_fe60259de05049b5a5ed501225dab8ad"
       ],
       "layout": "IPY_MODEL_09c5228ec2484e94965f104f86be14dc"
      }
     },
     "91e910bdadae409aa3aab0722c1899ea": {
      "model_module": "@jupyter-widgets/controls",
      "model_module_version": "1.5.0",
      "model_name": "HTMLModel",
      "state": {
       "layout": "IPY_MODEL_5bb6622ef309414c96f956587a6b7ed2",
       "style": "IPY_MODEL_1bc3843a25ad473b84aa2750509a0203",
       "value": " 8/8 [04:36&lt;00:00, 34.59s/it]"
      }
     },
     "91fe0bf14aa042659c931d6c4a93cec2": {
      "model_module": "@jupyter-widgets/base",
      "model_module_version": "1.2.0",
      "model_name": "LayoutModel",
      "state": {}
     },
     "94024f6ca7914426ad45bf55bb76c965": {
      "model_module": "@jupyter-widgets/base",
      "model_module_version": "1.2.0",
      "model_name": "LayoutModel",
      "state": {}
     },
     "941fee3957a84999ae1932fec720361e": {
      "model_module": "@jupyter-widgets/controls",
      "model_module_version": "1.5.0",
      "model_name": "DescriptionStyleModel",
      "state": {
       "description_width": ""
      }
     },
     "944e7790dd10445b8652a018d64dca4f": {
      "model_module": "@jupyter-widgets/controls",
      "model_module_version": "1.5.0",
      "model_name": "ProgressStyleModel",
      "state": {
       "description_width": "initial"
      }
     },
     "948038c2b7bb4aa88aacda734a2dde30": {
      "model_module": "@jupyter-widgets/controls",
      "model_module_version": "1.5.0",
      "model_name": "DescriptionStyleModel",
      "state": {
       "description_width": ""
      }
     },
     "94b4789c14f3471da704c2d9f7487356": {
      "model_module": "@jupyter-widgets/controls",
      "model_module_version": "1.5.0",
      "model_name": "HTMLModel",
      "state": {
       "layout": "IPY_MODEL_77a61adfad8c46208d883d4ae3da6a25",
       "style": "IPY_MODEL_04dcb7fe951645378d3321b703eb000b",
       "value": " 1/1 [00:04&lt;00:00,  4.20s/it]"
      }
     },
     "9503d548fdaf4887b3f9e8b74b7a969b": {
      "model_module": "@jupyter-widgets/base",
      "model_module_version": "1.2.0",
      "model_name": "LayoutModel",
      "state": {}
     },
     "95699de325024ff2908d7136b4962d68": {
      "model_module": "@jupyter-widgets/controls",
      "model_module_version": "1.5.0",
      "model_name": "FloatProgressModel",
      "state": {
       "bar_style": "success",
       "description": "100%",
       "layout": "IPY_MODEL_d9d3a7139c694a3aab493c89d83986a9",
       "max": 1,
       "style": "IPY_MODEL_859c87ed86114d5cbb4890947cbb9f7d",
       "value": 1
      }
     },
     "96203b85092841d08ea59ee2fa78a3ea": {
      "model_module": "@jupyter-widgets/controls",
      "model_module_version": "1.5.0",
      "model_name": "FloatProgressModel",
      "state": {
       "bar_style": "success",
       "description": "100%",
       "layout": "IPY_MODEL_6471e34dc5684fd1b856139a6f0d9917",
       "max": 10,
       "style": "IPY_MODEL_50bbc7acfc3e4b578d69d7caf818f3b0",
       "value": 10
      }
     },
     "96e287c18484431c9db9433ca93d4bb0": {
      "model_module": "@jupyter-widgets/controls",
      "model_module_version": "1.5.0",
      "model_name": "FloatProgressModel",
      "state": {
       "bar_style": "danger",
       "description": "  0%",
       "layout": "IPY_MODEL_a76c4130af7f480792275553b55c93b8",
       "max": 1,
       "style": "IPY_MODEL_0168630ea8394a748bd28494ae3dc7ad"
      }
     },
     "97a1bf000efa44f793b3749f14bfb269": {
      "model_module": "@jupyter-widgets/controls",
      "model_module_version": "1.5.0",
      "model_name": "ProgressStyleModel",
      "state": {
       "description_width": "initial"
      }
     },
     "97bdf8ef9d7b43eba95d587cf9955e07": {
      "model_module": "@jupyter-widgets/controls",
      "model_module_version": "1.5.0",
      "model_name": "DescriptionStyleModel",
      "state": {
       "description_width": ""
      }
     },
     "9874818b1dea4776b29789fbc275482b": {
      "model_module": "@jupyter-widgets/controls",
      "model_module_version": "1.5.0",
      "model_name": "HBoxModel",
      "state": {
       "children": [
        "IPY_MODEL_8c539733a30d4ae1b01770ce28021fb9",
        "IPY_MODEL_d8bf024c7b914863944eade990a3ce30"
       ],
       "layout": "IPY_MODEL_12f9e096603b49d881d533d77156ebd0"
      }
     },
     "9b61b2584d384379893987d3b2d1420f": {
      "model_module": "@jupyter-widgets/controls",
      "model_module_version": "1.5.0",
      "model_name": "ProgressStyleModel",
      "state": {
       "description_width": "initial"
      }
     },
     "9dc532f5d91e44a2be7fe1a1f12dfb76": {
      "model_module": "@jupyter-widgets/base",
      "model_module_version": "1.2.0",
      "model_name": "LayoutModel",
      "state": {}
     },
     "a29f160ec96f44c2af5175e8091cfaca": {
      "model_module": "@jupyter-widgets/controls",
      "model_module_version": "1.5.0",
      "model_name": "FloatProgressModel",
      "state": {
       "bar_style": "success",
       "description": "100%",
       "layout": "IPY_MODEL_5f88530d6c304dca80f1fe40cce90fd4",
       "max": 1,
       "style": "IPY_MODEL_fc98e5c329e24d9882bc47066f5aeaf8",
       "value": 1
      }
     },
     "a2f777cdbee54adfbc3f6e888f2b52c2": {
      "model_module": "@jupyter-widgets/base",
      "model_module_version": "1.2.0",
      "model_name": "LayoutModel",
      "state": {}
     },
     "a44450fe32ab4f628a89a346e87f6c89": {
      "model_module": "@jupyter-widgets/base",
      "model_module_version": "1.2.0",
      "model_name": "LayoutModel",
      "state": {}
     },
     "a4abd87f60734f5fa0cb11acaa55dfe8": {
      "model_module": "@jupyter-widgets/controls",
      "model_module_version": "1.5.0",
      "model_name": "ProgressStyleModel",
      "state": {
       "description_width": "initial"
      }
     },
     "a56e32d49b54409ea3320cfc156aee8a": {
      "model_module": "@jupyter-widgets/base",
      "model_module_version": "1.2.0",
      "model_name": "LayoutModel",
      "state": {}
     },
     "a7436c35d6444808b2c3860fd704836a": {
      "model_module": "@jupyter-widgets/base",
      "model_module_version": "1.2.0",
      "model_name": "LayoutModel",
      "state": {}
     },
     "a76c4130af7f480792275553b55c93b8": {
      "model_module": "@jupyter-widgets/base",
      "model_module_version": "1.2.0",
      "model_name": "LayoutModel",
      "state": {}
     },
     "a7aed60d8f2641be8cffe1094eaae2e8": {
      "model_module": "@jupyter-widgets/base",
      "model_module_version": "1.2.0",
      "model_name": "LayoutModel",
      "state": {}
     },
     "a8351423145c47f8ac0168894ed05e51": {
      "model_module": "@jupyter-widgets/controls",
      "model_module_version": "1.5.0",
      "model_name": "DescriptionStyleModel",
      "state": {
       "description_width": ""
      }
     },
     "a89b4534937142df80e0b4a35d8fd320": {
      "model_module": "@jupyter-widgets/base",
      "model_module_version": "1.2.0",
      "model_name": "LayoutModel",
      "state": {}
     },
     "a8b2ad5d5cfb43829a9839f87b23ebf3": {
      "model_module": "@jupyter-widgets/controls",
      "model_module_version": "1.5.0",
      "model_name": "DescriptionStyleModel",
      "state": {
       "description_width": ""
      }
     },
     "aa58cef451594770b696aff4beafbcd1": {
      "model_module": "@jupyter-widgets/controls",
      "model_module_version": "1.5.0",
      "model_name": "FloatProgressModel",
      "state": {
       "bar_style": "success",
       "description": "100%",
       "layout": "IPY_MODEL_f823fcf6968e4de499dff76f6b1a6354",
       "max": 8,
       "style": "IPY_MODEL_783670e79ef54c7890cf4d9fe636e152",
       "value": 8
      }
     },
     "ab7b0584af9d4d91a265ca7afe57d704": {
      "model_module": "@jupyter-widgets/base",
      "model_module_version": "1.2.0",
      "model_name": "LayoutModel",
      "state": {}
     },
     "abf329f00a194b1a8089e983664f4cc6": {
      "model_module": "@jupyter-widgets/base",
      "model_module_version": "1.2.0",
      "model_name": "LayoutModel",
      "state": {}
     },
     "ac53cd4ff89443138dccdbf0d63d4f1b": {
      "model_module": "@jupyter-widgets/controls",
      "model_module_version": "1.5.0",
      "model_name": "ProgressStyleModel",
      "state": {
       "description_width": "initial"
      }
     },
     "aec08963242a41a8a6b4e04942b00464": {
      "model_module": "@jupyter-widgets/base",
      "model_module_version": "1.2.0",
      "model_name": "LayoutModel",
      "state": {}
     },
     "af7f2259c81e4824b233884aca9b8b5b": {
      "model_module": "@jupyter-widgets/controls",
      "model_module_version": "1.5.0",
      "model_name": "HBoxModel",
      "state": {
       "children": [
        "IPY_MODEL_3332371c7ad84e98a6264c7ee8767a8a",
        "IPY_MODEL_09ae2777d5cd488d9e7df398a8ad4fc5"
       ],
       "layout": "IPY_MODEL_279112a106a9489db4a0850307d3ee16"
      }
     },
     "b1d0e2d8d3eb4f8384104c30ba98fd90": {
      "model_module": "@jupyter-widgets/base",
      "model_module_version": "1.2.0",
      "model_name": "LayoutModel",
      "state": {}
     },
     "b2355808ca974706ae73b48f5d10dad3": {
      "model_module": "@jupyter-widgets/controls",
      "model_module_version": "1.5.0",
      "model_name": "DescriptionStyleModel",
      "state": {
       "description_width": ""
      }
     },
     "b25777203a6f4e8a863f735086df4a9a": {
      "model_module": "@jupyter-widgets/controls",
      "model_module_version": "1.5.0",
      "model_name": "ProgressStyleModel",
      "state": {
       "description_width": "initial"
      }
     },
     "b50bce60b67747519589b5790b6e683a": {
      "model_module": "@jupyter-widgets/controls",
      "model_module_version": "1.5.0",
      "model_name": "FloatProgressModel",
      "state": {
       "bar_style": "success",
       "description": "100%",
       "layout": "IPY_MODEL_24d7e2597b28423a9aa8eb61c308ffec",
       "max": 1,
       "style": "IPY_MODEL_90774c04721d4ae9bdb8e4a50c172e79",
       "value": 1
      }
     },
     "b547ad56370e4fe590f6cb9781f4e53b": {
      "model_module": "@jupyter-widgets/controls",
      "model_module_version": "1.5.0",
      "model_name": "HBoxModel",
      "state": {
       "children": [
        "IPY_MODEL_e0c300b205fe4dd29c8571e2cba1cdfe",
        "IPY_MODEL_ce1b579ec77e4e54bb448dbc48408ab6"
       ],
       "layout": "IPY_MODEL_e1c941d46c0f459193827a9f50ba1694"
      }
     },
     "b549c09059f24c63ad036f49968f5f92": {
      "model_module": "@jupyter-widgets/controls",
      "model_module_version": "1.5.0",
      "model_name": "HBoxModel",
      "state": {
       "children": [
        "IPY_MODEL_4a49b1fac98145ecba3e976d1c2f36b7",
        "IPY_MODEL_4a7d8ad4950143b2b12d78d1b0f5768e"
       ],
       "layout": "IPY_MODEL_09f2d2ffa2bb4d10a35b3981017b22b3"
      }
     },
     "b62475a71f324ef38011c5e3b0d3c4b1": {
      "model_module": "@jupyter-widgets/controls",
      "model_module_version": "1.5.0",
      "model_name": "FloatProgressModel",
      "state": {
       "bar_style": "success",
       "description": "100%",
       "layout": "IPY_MODEL_8c4a1d626c4a472db7789d1609c9be56",
       "max": 1,
       "style": "IPY_MODEL_6fcf91862ef14b6abd7d8ff509061629",
       "value": 1
      }
     },
     "b63aec444be24dd0b99491b346c18560": {
      "model_module": "@jupyter-widgets/base",
      "model_module_version": "1.2.0",
      "model_name": "LayoutModel",
      "state": {}
     },
     "b81252614af44f1aba88c1b3b43949d4": {
      "model_module": "@jupyter-widgets/controls",
      "model_module_version": "1.5.0",
      "model_name": "HTMLModel",
      "state": {
       "layout": "IPY_MODEL_91fe0bf14aa042659c931d6c4a93cec2",
       "style": "IPY_MODEL_30ef730482ed4290b09908d70e493763",
       "value": " 1/1 [00:03&lt;00:00,  3.81s/it]"
      }
     },
     "b867c62cf2e94212b017144edfca9cd4": {
      "model_module": "@jupyter-widgets/controls",
      "model_module_version": "1.5.0",
      "model_name": "DescriptionStyleModel",
      "state": {
       "description_width": ""
      }
     },
     "b874db8d32654775b3129a92c02eaecf": {
      "model_module": "@jupyter-widgets/base",
      "model_module_version": "1.2.0",
      "model_name": "LayoutModel",
      "state": {}
     },
     "b87f60485d3849429cbb1b7edd034677": {
      "model_module": "@jupyter-widgets/base",
      "model_module_version": "1.2.0",
      "model_name": "LayoutModel",
      "state": {}
     },
     "baedbcbbc5ec4edbbcc578ab23105ee0": {
      "model_module": "@jupyter-widgets/base",
      "model_module_version": "1.2.0",
      "model_name": "LayoutModel",
      "state": {}
     },
     "bb84127b6f3d47808a25c59978fe4b6b": {
      "model_module": "@jupyter-widgets/controls",
      "model_module_version": "1.5.0",
      "model_name": "ProgressStyleModel",
      "state": {
       "description_width": "initial"
      }
     },
     "bb9600df0d8e4288923e39a3aaca4302": {
      "model_module": "@jupyter-widgets/controls",
      "model_module_version": "1.5.0",
      "model_name": "HTMLModel",
      "state": {
       "layout": "IPY_MODEL_5254f4e4788b49adbdc10bfae27eb461",
       "style": "IPY_MODEL_948038c2b7bb4aa88aacda734a2dde30",
       "value": " 10/10 [01:51&lt;00:00, 11.11s/it]"
      }
     },
     "bbbb53c161bd4b1abcc34c3d7533aba7": {
      "model_module": "@jupyter-widgets/base",
      "model_module_version": "1.2.0",
      "model_name": "LayoutModel",
      "state": {}
     },
     "bbdf5d28089c4499902f08b302445027": {
      "model_module": "@jupyter-widgets/controls",
      "model_module_version": "1.5.0",
      "model_name": "ProgressStyleModel",
      "state": {
       "description_width": "initial"
      }
     },
     "bd843379a2b04df3a38125f266e6ba4f": {
      "model_module": "@jupyter-widgets/controls",
      "model_module_version": "1.5.0",
      "model_name": "DescriptionStyleModel",
      "state": {
       "description_width": ""
      }
     },
     "bdc38240cd804f9a93b65abd4d60fd4d": {
      "model_module": "@jupyter-widgets/base",
      "model_module_version": "1.2.0",
      "model_name": "LayoutModel",
      "state": {}
     },
     "bee5d902126b406c9ad8c7daed4885aa": {
      "model_module": "@jupyter-widgets/base",
      "model_module_version": "1.2.0",
      "model_name": "LayoutModel",
      "state": {}
     },
     "bf5855f43033499b8f2bd004008606f7": {
      "model_module": "@jupyter-widgets/base",
      "model_module_version": "1.2.0",
      "model_name": "LayoutModel",
      "state": {}
     },
     "bfd9e69fe17e4635883f7913293a4643": {
      "model_module": "@jupyter-widgets/base",
      "model_module_version": "1.2.0",
      "model_name": "LayoutModel",
      "state": {}
     },
     "c0e7db59cc1f478f97cbb1c046d46925": {
      "model_module": "@jupyter-widgets/controls",
      "model_module_version": "1.5.0",
      "model_name": "HBoxModel",
      "state": {
       "children": [
        "IPY_MODEL_8c7f6b11d7c7414baf32abc775062548",
        "IPY_MODEL_ce724065e5094dc194bb2ec66238d914"
       ],
       "layout": "IPY_MODEL_cc358888049d49d69c811dc029e633c3"
      }
     },
     "c150057cea3546289c4095ee44eb871c": {
      "model_module": "@jupyter-widgets/controls",
      "model_module_version": "1.5.0",
      "model_name": "DescriptionStyleModel",
      "state": {
       "description_width": ""
      }
     },
     "c176093ebc7e41f29b0deb8e386a0906": {
      "model_module": "@jupyter-widgets/base",
      "model_module_version": "1.2.0",
      "model_name": "LayoutModel",
      "state": {}
     },
     "c1be512cfa224c6a87a8661d9e035b88": {
      "model_module": "@jupyter-widgets/controls",
      "model_module_version": "1.5.0",
      "model_name": "DescriptionStyleModel",
      "state": {
       "description_width": ""
      }
     },
     "c3bb15350c3c48af868c0570e406b690": {
      "model_module": "@jupyter-widgets/base",
      "model_module_version": "1.2.0",
      "model_name": "LayoutModel",
      "state": {}
     },
     "c4223b556ba94923ba2391d5be038014": {
      "model_module": "@jupyter-widgets/controls",
      "model_module_version": "1.5.0",
      "model_name": "HBoxModel",
      "state": {
       "children": [
        "IPY_MODEL_883615fc9b184de5b852de1c7fb5ec99",
        "IPY_MODEL_2fe0294a25574430bad64000d21057e7"
       ],
       "layout": "IPY_MODEL_94024f6ca7914426ad45bf55bb76c965"
      }
     },
     "c469a9a863c14bcfaa18d4c98c3f1251": {
      "model_module": "@jupyter-widgets/controls",
      "model_module_version": "1.5.0",
      "model_name": "ProgressStyleModel",
      "state": {
       "description_width": "initial"
      }
     },
     "c63e16c52e454be8b7016b2a6e497859": {
      "model_module": "@jupyter-widgets/controls",
      "model_module_version": "1.5.0",
      "model_name": "DescriptionStyleModel",
      "state": {
       "description_width": ""
      }
     },
     "c73a555b50974f01885ae25e50159c9c": {
      "model_module": "@jupyter-widgets/controls",
      "model_module_version": "1.5.0",
      "model_name": "HTMLModel",
      "state": {
       "layout": "IPY_MODEL_d6ee0ee4dd8e41d99552df1d20e980b1",
       "style": "IPY_MODEL_97bdf8ef9d7b43eba95d587cf9955e07",
       "value": " 1/1 [01:57&lt;00:00, 117.14s/it]"
      }
     },
     "c8b870cfb1e34e52bf002a33a30964e5": {
      "model_module": "@jupyter-widgets/controls",
      "model_module_version": "1.5.0",
      "model_name": "DescriptionStyleModel",
      "state": {
       "description_width": ""
      }
     },
     "ca35cbb137024c31b5c923f1e8784543": {
      "model_module": "@jupyter-widgets/controls",
      "model_module_version": "1.5.0",
      "model_name": "HBoxModel",
      "state": {
       "children": [
        "IPY_MODEL_e68215774f4546388e941c6febe49fb5",
        "IPY_MODEL_573ac2e63389433bb870a8a78b45634f"
       ],
       "layout": "IPY_MODEL_46376214ea69437182d3794a160a3818"
      }
     },
     "cbe35577098441259c27201e4f7fe8cb": {
      "model_module": "@jupyter-widgets/controls",
      "model_module_version": "1.5.0",
      "model_name": "HTMLModel",
      "state": {
       "layout": "IPY_MODEL_a7436c35d6444808b2c3860fd704836a",
       "style": "IPY_MODEL_c1be512cfa224c6a87a8661d9e035b88",
       "value": " 1/1 [00:05&lt;00:00,  5.43s/it]"
      }
     },
     "cc358888049d49d69c811dc029e633c3": {
      "model_module": "@jupyter-widgets/base",
      "model_module_version": "1.2.0",
      "model_name": "LayoutModel",
      "state": {}
     },
     "cc98c0b1f17d43b59745fea9348653aa": {
      "model_module": "@jupyter-widgets/base",
      "model_module_version": "1.2.0",
      "model_name": "LayoutModel",
      "state": {}
     },
     "ce1b579ec77e4e54bb448dbc48408ab6": {
      "model_module": "@jupyter-widgets/controls",
      "model_module_version": "1.5.0",
      "model_name": "HTMLModel",
      "state": {
       "layout": "IPY_MODEL_e4b20bcea5004655940a726ac4f7a10e",
       "style": "IPY_MODEL_779401127c2a4f8caebeea31ef13be2d",
       "value": " 1/1 [00:04&lt;00:00,  4.06s/it]"
      }
     },
     "ce3268fc3812407e9fc9c971ba1e3980": {
      "model_module": "@jupyter-widgets/controls",
      "model_module_version": "1.5.0",
      "model_name": "FloatProgressModel",
      "state": {
       "bar_style": "success",
       "description": "100%",
       "layout": "IPY_MODEL_aec08963242a41a8a6b4e04942b00464",
       "max": 1,
       "style": "IPY_MODEL_c469a9a863c14bcfaa18d4c98c3f1251",
       "value": 1
      }
     },
     "ce3ed29c45924601b139ddf7aa6c5246": {
      "model_module": "@jupyter-widgets/controls",
      "model_module_version": "1.5.0",
      "model_name": "DescriptionStyleModel",
      "state": {
       "description_width": ""
      }
     },
     "ce724065e5094dc194bb2ec66238d914": {
      "model_module": "@jupyter-widgets/controls",
      "model_module_version": "1.5.0",
      "model_name": "HTMLModel",
      "state": {
       "layout": "IPY_MODEL_a56e32d49b54409ea3320cfc156aee8a",
       "style": "IPY_MODEL_941fee3957a84999ae1932fec720361e",
       "value": " 1/1 [05:48&lt;00:00, 348.06s/it]"
      }
     },
     "d07b89d6a9b74c84b45a60d055164945": {
      "model_module": "@jupyter-widgets/controls",
      "model_module_version": "1.5.0",
      "model_name": "DescriptionStyleModel",
      "state": {
       "description_width": ""
      }
     },
     "d0a15d5c07374e38a40684655383077d": {
      "model_module": "@jupyter-widgets/controls",
      "model_module_version": "1.5.0",
      "model_name": "HTMLModel",
      "state": {
       "layout": "IPY_MODEL_bfd9e69fe17e4635883f7913293a4643",
       "style": "IPY_MODEL_f29c2244abe047baa6eb7401d12df4bb",
       "value": " 1/1 [00:03&lt;00:00,  4.00s/it]"
      }
     },
     "d0eb23459e0544fe94aa4ec174f0638d": {
      "model_module": "@jupyter-widgets/base",
      "model_module_version": "1.2.0",
      "model_name": "LayoutModel",
      "state": {}
     },
     "d1b343911bf245d5b8318580433f10de": {
      "model_module": "@jupyter-widgets/base",
      "model_module_version": "1.2.0",
      "model_name": "LayoutModel",
      "state": {}
     },
     "d22400128ecf461caa7006ede3cff3fc": {
      "model_module": "@jupyter-widgets/base",
      "model_module_version": "1.2.0",
      "model_name": "LayoutModel",
      "state": {}
     },
     "d2d90b6eda134e33a91284181c511365": {
      "model_module": "@jupyter-widgets/controls",
      "model_module_version": "1.5.0",
      "model_name": "FloatProgressModel",
      "state": {
       "bar_style": "success",
       "description": "100%",
       "layout": "IPY_MODEL_49890ff9bd0d42909949aac5193efde3",
       "max": 10,
       "style": "IPY_MODEL_74a61585164947f19f78b27acc352504",
       "value": 10
      }
     },
     "d540bfc9da104d5ea6fdafc305cab784": {
      "model_module": "@jupyter-widgets/controls",
      "model_module_version": "1.5.0",
      "model_name": "HBoxModel",
      "state": {
       "children": [
        "IPY_MODEL_6674e40ff9c24737bb7c4920d6abf8a7",
        "IPY_MODEL_94b4789c14f3471da704c2d9f7487356"
       ],
       "layout": "IPY_MODEL_59606259555a4be8b0bf753ef004fc9f"
      }
     },
     "d5b251b7d9044950a389026079544f7a": {
      "model_module": "@jupyter-widgets/controls",
      "model_module_version": "1.5.0",
      "model_name": "HBoxModel",
      "state": {
       "children": [
        "IPY_MODEL_a29f160ec96f44c2af5175e8091cfaca",
        "IPY_MODEL_6f1e363bf45645e6a7c0cd99d7e319ec"
       ],
       "layout": "IPY_MODEL_b63aec444be24dd0b99491b346c18560"
      }
     },
     "d63e96c353b548f7807d1706b80874d1": {
      "model_module": "@jupyter-widgets/controls",
      "model_module_version": "1.5.0",
      "model_name": "ProgressStyleModel",
      "state": {
       "description_width": "initial"
      }
     },
     "d6a6d83561944d6f93b0572e35d71a27": {
      "model_module": "@jupyter-widgets/controls",
      "model_module_version": "1.5.0",
      "model_name": "ProgressStyleModel",
      "state": {
       "description_width": "initial"
      }
     },
     "d6ee0ee4dd8e41d99552df1d20e980b1": {
      "model_module": "@jupyter-widgets/base",
      "model_module_version": "1.2.0",
      "model_name": "LayoutModel",
      "state": {}
     },
     "d89de7387bd3441984bc72078782734a": {
      "model_module": "@jupyter-widgets/base",
      "model_module_version": "1.2.0",
      "model_name": "LayoutModel",
      "state": {}
     },
     "d8bf024c7b914863944eade990a3ce30": {
      "model_module": "@jupyter-widgets/controls",
      "model_module_version": "1.5.0",
      "model_name": "HTMLModel",
      "state": {
       "layout": "IPY_MODEL_a89b4534937142df80e0b4a35d8fd320",
       "style": "IPY_MODEL_594ed28032ad4b5a83d0331fe7d67714",
       "value": " 1/1 [01:21&lt;00:00, 81.94s/it]"
      }
     },
     "d9d3a7139c694a3aab493c89d83986a9": {
      "model_module": "@jupyter-widgets/base",
      "model_module_version": "1.2.0",
      "model_name": "LayoutModel",
      "state": {}
     },
     "d9e6013a54fe4e6cbc410d7a48bc9ffa": {
      "model_module": "@jupyter-widgets/controls",
      "model_module_version": "1.5.0",
      "model_name": "DescriptionStyleModel",
      "state": {
       "description_width": ""
      }
     },
     "da352b42f92f4eb093747d80fe2581d2": {
      "model_module": "@jupyter-widgets/controls",
      "model_module_version": "1.5.0",
      "model_name": "ProgressStyleModel",
      "state": {
       "description_width": "initial"
      }
     },
     "db06424210a444a882e2ab7c1cd88d24": {
      "model_module": "@jupyter-widgets/controls",
      "model_module_version": "1.5.0",
      "model_name": "HBoxModel",
      "state": {
       "children": [
        "IPY_MODEL_8caf90de23964b59822626dd8fad9be0",
        "IPY_MODEL_0b146f8ddaab47a4bdf2a9abbe0de7fa"
       ],
       "layout": "IPY_MODEL_baedbcbbc5ec4edbbcc578ab23105ee0"
      }
     },
     "db6b664ffdea414cbb553b5708a34c7e": {
      "model_module": "@jupyter-widgets/controls",
      "model_module_version": "1.5.0",
      "model_name": "DescriptionStyleModel",
      "state": {
       "description_width": ""
      }
     },
     "db75a7af9b4b45a8b9542193592d03c5": {
      "model_module": "@jupyter-widgets/controls",
      "model_module_version": "1.5.0",
      "model_name": "ProgressStyleModel",
      "state": {
       "description_width": "initial"
      }
     },
     "ddac693209714e3a8ad95fcf6f22d2c5": {
      "model_module": "@jupyter-widgets/controls",
      "model_module_version": "1.5.0",
      "model_name": "ProgressStyleModel",
      "state": {
       "description_width": "initial"
      }
     },
     "dfef939eafd541ffad26bb9419996242": {
      "model_module": "@jupyter-widgets/base",
      "model_module_version": "1.2.0",
      "model_name": "LayoutModel",
      "state": {}
     },
     "dff093f77ccc41539443112d7aea0250": {
      "model_module": "@jupyter-widgets/controls",
      "model_module_version": "1.5.0",
      "model_name": "HBoxModel",
      "state": {
       "children": [
        "IPY_MODEL_5db4f06a75f14d32aec520bf332207bf",
        "IPY_MODEL_e771fd126c744c72914aa54860ffc653"
       ],
       "layout": "IPY_MODEL_1cdad1fb2ccb43fea330a30c53504efa"
      }
     },
     "e0c300b205fe4dd29c8571e2cba1cdfe": {
      "model_module": "@jupyter-widgets/controls",
      "model_module_version": "1.5.0",
      "model_name": "FloatProgressModel",
      "state": {
       "bar_style": "success",
       "description": "100%",
       "layout": "IPY_MODEL_3ba6badfc78846b78ddf9c4616e0a756",
       "max": 1,
       "style": "IPY_MODEL_bb84127b6f3d47808a25c59978fe4b6b",
       "value": 1
      }
     },
     "e0edb5149c644b36a61d94b514fcf82e": {
      "model_module": "@jupyter-widgets/controls",
      "model_module_version": "1.5.0",
      "model_name": "ProgressStyleModel",
      "state": {
       "description_width": "initial"
      }
     },
     "e117a1cf5814427bbc2a722ddf10ad38": {
      "model_module": "@jupyter-widgets/base",
      "model_module_version": "1.2.0",
      "model_name": "LayoutModel",
      "state": {}
     },
     "e11c0a8e7c0b4f1c90648ee2736507f1": {
      "model_module": "@jupyter-widgets/controls",
      "model_module_version": "1.5.0",
      "model_name": "FloatProgressModel",
      "state": {
       "bar_style": "success",
       "description": "100%",
       "layout": "IPY_MODEL_171c4bffcfa749a1b515464af9d30ecb",
       "max": 1,
       "style": "IPY_MODEL_863be5d4163b472e97f11b63ae4d2cc7",
       "value": 1
      }
     },
     "e1c941d46c0f459193827a9f50ba1694": {
      "model_module": "@jupyter-widgets/base",
      "model_module_version": "1.2.0",
      "model_name": "LayoutModel",
      "state": {}
     },
     "e34dd85e39c34036a0357581acea993f": {
      "model_module": "@jupyter-widgets/controls",
      "model_module_version": "1.5.0",
      "model_name": "FloatProgressModel",
      "state": {
       "bar_style": "success",
       "description": "100%",
       "layout": "IPY_MODEL_451f690c151045789438031b5da1436f",
       "max": 8,
       "style": "IPY_MODEL_19695c25e19d4564b4a96827efa9ce12",
       "value": 8
      }
     },
     "e4b20bcea5004655940a726ac4f7a10e": {
      "model_module": "@jupyter-widgets/base",
      "model_module_version": "1.2.0",
      "model_name": "LayoutModel",
      "state": {}
     },
     "e507b5b34e024bcfa4f4ae4c4923b4c9": {
      "model_module": "@jupyter-widgets/controls",
      "model_module_version": "1.5.0",
      "model_name": "ProgressStyleModel",
      "state": {
       "description_width": "initial"
      }
     },
     "e564555c67014deb881db16eba8649ae": {
      "model_module": "@jupyter-widgets/base",
      "model_module_version": "1.2.0",
      "model_name": "LayoutModel",
      "state": {}
     },
     "e59240fd60ef4e9ba0fc534488b239a3": {
      "model_module": "@jupyter-widgets/controls",
      "model_module_version": "1.5.0",
      "model_name": "FloatProgressModel",
      "state": {
       "bar_style": "success",
       "description": "100%",
       "layout": "IPY_MODEL_45a1a3d60f9f42f3b766a0e7a021d4ed",
       "max": 10,
       "style": "IPY_MODEL_d6a6d83561944d6f93b0572e35d71a27",
       "value": 10
      }
     },
     "e68215774f4546388e941c6febe49fb5": {
      "model_module": "@jupyter-widgets/controls",
      "model_module_version": "1.5.0",
      "model_name": "FloatProgressModel",
      "state": {
       "bar_style": "success",
       "description": "100%",
       "layout": "IPY_MODEL_bee5d902126b406c9ad8c7daed4885aa",
       "max": 1,
       "style": "IPY_MODEL_a4abd87f60734f5fa0cb11acaa55dfe8",
       "value": 1
      }
     },
     "e771fd126c744c72914aa54860ffc653": {
      "model_module": "@jupyter-widgets/controls",
      "model_module_version": "1.5.0",
      "model_name": "HTMLModel",
      "state": {
       "layout": "IPY_MODEL_6c03b76a31f044a28e5075c8f9ab32db",
       "style": "IPY_MODEL_c63e16c52e454be8b7016b2a6e497859",
       "value": " 1/1 [00:04&lt;00:00,  4.15s/it]"
      }
     },
     "e89c0312168446b2806a80314bb7bd0c": {
      "model_module": "@jupyter-widgets/controls",
      "model_module_version": "1.5.0",
      "model_name": "HTMLModel",
      "state": {
       "layout": "IPY_MODEL_38da077260ca47959e2b098975fd7c6e",
       "style": "IPY_MODEL_d9e6013a54fe4e6cbc410d7a48bc9ffa",
       "value": " 1/1 [00:03&lt;00:00,  3.78s/it]"
      }
     },
     "ed1f68dc4fdb464aa7ae16548210a9df": {
      "model_module": "@jupyter-widgets/base",
      "model_module_version": "1.2.0",
      "model_name": "LayoutModel",
      "state": {}
     },
     "ef9a50cb69ed4959a0b0958f8c0b67d4": {
      "model_module": "@jupyter-widgets/controls",
      "model_module_version": "1.5.0",
      "model_name": "HBoxModel",
      "state": {
       "children": [
        "IPY_MODEL_e34dd85e39c34036a0357581acea993f",
        "IPY_MODEL_5493e87add2445ab9f604f6e32967448"
       ],
       "layout": "IPY_MODEL_467850d3c60d4cf4ba1c239462f71b16"
      }
     },
     "f1630bf8118b4141bb73fad66e562526": {
      "model_module": "@jupyter-widgets/base",
      "model_module_version": "1.2.0",
      "model_name": "LayoutModel",
      "state": {}
     },
     "f29c2244abe047baa6eb7401d12df4bb": {
      "model_module": "@jupyter-widgets/controls",
      "model_module_version": "1.5.0",
      "model_name": "DescriptionStyleModel",
      "state": {
       "description_width": ""
      }
     },
     "f418ed0fe23d4cdb986f0ba659e2475a": {
      "model_module": "@jupyter-widgets/controls",
      "model_module_version": "1.5.0",
      "model_name": "DescriptionStyleModel",
      "state": {
       "description_width": ""
      }
     },
     "f504b3ef8f13406891e57c2e81a09817": {
      "model_module": "@jupyter-widgets/controls",
      "model_module_version": "1.5.0",
      "model_name": "DescriptionStyleModel",
      "state": {
       "description_width": ""
      }
     },
     "f504ef636531471581694dbbeef57776": {
      "model_module": "@jupyter-widgets/base",
      "model_module_version": "1.2.0",
      "model_name": "LayoutModel",
      "state": {}
     },
     "f823fcf6968e4de499dff76f6b1a6354": {
      "model_module": "@jupyter-widgets/base",
      "model_module_version": "1.2.0",
      "model_name": "LayoutModel",
      "state": {}
     },
     "faa0712304b1401095e7ff3f5d4d701b": {
      "model_module": "@jupyter-widgets/controls",
      "model_module_version": "1.5.0",
      "model_name": "ProgressStyleModel",
      "state": {
       "description_width": "initial"
      }
     },
     "faa29983584742728c966b5fc86f7b88": {
      "model_module": "@jupyter-widgets/controls",
      "model_module_version": "1.5.0",
      "model_name": "HBoxModel",
      "state": {
       "children": [
        "IPY_MODEL_5d42f2163a414bbda2730199a5810c4c",
        "IPY_MODEL_7d19d9ee40e14f408b83c7206342793f"
       ],
       "layout": "IPY_MODEL_84e27c617da84b038365aa0f4e6bd445"
      }
     },
     "fc98e5c329e24d9882bc47066f5aeaf8": {
      "model_module": "@jupyter-widgets/controls",
      "model_module_version": "1.5.0",
      "model_name": "ProgressStyleModel",
      "state": {
       "description_width": "initial"
      }
     },
     "fd10c4f7ca69495fad617010bd367f32": {
      "model_module": "@jupyter-widgets/controls",
      "model_module_version": "1.5.0",
      "model_name": "HBoxModel",
      "state": {
       "children": [
        "IPY_MODEL_6b9682f0494a4241b8e5e185576af364",
        "IPY_MODEL_cbe35577098441259c27201e4f7fe8cb"
       ],
       "layout": "IPY_MODEL_4c18c92b365d459fa9d29a3c430e7fa7"
      }
     },
     "fe28f46814a64766a429e438c811cfdd": {
      "model_module": "@jupyter-widgets/controls",
      "model_module_version": "1.5.0",
      "model_name": "ProgressStyleModel",
      "state": {
       "description_width": "initial"
      }
     },
     "fe60259de05049b5a5ed501225dab8ad": {
      "model_module": "@jupyter-widgets/controls",
      "model_module_version": "1.5.0",
      "model_name": "HTMLModel",
      "state": {
       "layout": "IPY_MODEL_a2f777cdbee54adfbc3f6e888f2b52c2",
       "style": "IPY_MODEL_35326a43328f4726a9d326c37a0bccf8",
       "value": " 10/10 [05:45&lt;00:00, 34.52s/it]"
      }
     },
     "fe8713b73b424073865a9ee802dad38a": {
      "model_module": "@jupyter-widgets/controls",
      "model_module_version": "1.5.0",
      "model_name": "FloatProgressModel",
      "state": {
       "bar_style": "success",
       "description": "100%",
       "layout": "IPY_MODEL_a44450fe32ab4f628a89a346e87f6c89",
       "max": 1,
       "style": "IPY_MODEL_5b1c12d52b1f4211bdea5a4878bb6a43",
       "value": 1
      }
     }
    },
    "version_major": 2,
    "version_minor": 0
   }
  }
 },
 "nbformat": 4,
 "nbformat_minor": 2
}
