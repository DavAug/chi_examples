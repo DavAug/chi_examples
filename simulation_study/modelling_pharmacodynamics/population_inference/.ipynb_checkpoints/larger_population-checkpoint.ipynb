{
 "cells": [
  {
   "cell_type": "markdown",
   "metadata": {},
   "source": [
    "# Simulation study - Inference of tumour growth model from a group of virtual patients without treatment "
   ]
  },
  {
   "cell_type": "markdown",
   "metadata": {},
   "source": [
    "## Build tumour growth model"
   ]
  },
  {
   "cell_type": "code",
   "execution_count": 1,
   "metadata": {},
   "outputs": [],
   "source": [
    "import erlotinib as erlo\n",
    "\n",
    "# Define mechanistic model\n",
    "path = erlo.ModelLibrary().tumour_growth_inhibition_model_koch_reparametrised()\n",
    "mechanistic_model = erlo.PharmacodynamicModel(path)\n",
    "mechanistic_model.set_parameter_names(names={\n",
    "    'myokit.tumour_volume': 'Tumour volume in cm^3',\n",
    "    'myokit.critical_volume': 'Critical volume in cm^3',\n",
    "    'myokit.drug_concentration': 'Drug concentration in mg/L',\n",
    "    'myokit.kappa': 'Potency in L/mg/day',\n",
    "    'myokit.lambda': 'Exponential growth rate in 1/day'})\n",
    "\n",
    "# Define error model\n",
    "error_model = erlo.ConstantAndMultiplicativeGaussianErrorModel()\n",
    "\n",
    "# Define population model\n",
    "population_model = [\n",
    "    erlo.LogNormalModel(),  # Initial tumour volume\n",
    "    erlo.LogNormalModel(),  # Critical tumour volume\n",
    "    erlo.LogNormalModel(),  # Tumour growth rate\n",
    "    erlo.PooledModel(),     # Base noise\n",
    "    erlo.PooledModel()]     # Relative noise\n",
    "\n",
    "# Build model\n",
    "problem = erlo.ProblemModellingController(\n",
    "    mechanistic_model, error_model)\n",
    "problem.fix_parameters({\n",
    "    'Drug concentration in mg/L': 0,\n",
    "    'Potency in L/mg/day': 0})\n",
    "problem.set_population_model(population_model)"
   ]
  },
  {
   "cell_type": "markdown",
   "metadata": {},
   "source": [
    "## Measure tumour volume in a virtual patient"
   ]
  },
  {
   "cell_type": "code",
   "execution_count": 2,
   "metadata": {},
   "outputs": [
    {
     "ename": "IndexError",
     "evalue": "list index out of range",
     "output_type": "error",
     "traceback": [
      "\u001b[0;31m---------------------------------------------------------------------------\u001b[0m",
      "\u001b[0;31mIndexError\u001b[0m                                Traceback (most recent call last)",
      "\u001b[0;32m<ipython-input-2-83dc1d58989f>\u001b[0m in \u001b[0;36m<module>\u001b[0;34m\u001b[0m\n\u001b[1;32m     23\u001b[0m \u001b[0;31m# Create scatter plot\u001b[0m\u001b[0;34m\u001b[0m\u001b[0;34m\u001b[0m\u001b[0;34m\u001b[0m\u001b[0m\n\u001b[1;32m     24\u001b[0m \u001b[0mfig\u001b[0m \u001b[0;34m=\u001b[0m \u001b[0merlo\u001b[0m\u001b[0;34m.\u001b[0m\u001b[0mplots\u001b[0m\u001b[0;34m.\u001b[0m\u001b[0mPDTimeSeriesPlot\u001b[0m\u001b[0;34m(\u001b[0m\u001b[0;34m)\u001b[0m\u001b[0;34m\u001b[0m\u001b[0;34m\u001b[0m\u001b[0m\n\u001b[0;32m---> 25\u001b[0;31m \u001b[0mfig\u001b[0m\u001b[0;34m.\u001b[0m\u001b[0madd_data\u001b[0m\u001b[0;34m(\u001b[0m\u001b[0mdata\u001b[0m\u001b[0;34m,\u001b[0m \u001b[0mbiomarker\u001b[0m\u001b[0;34m=\u001b[0m\u001b[0;34m'myokit.tumour_volume'\u001b[0m\u001b[0;34m,\u001b[0m \u001b[0mmeas_key\u001b[0m\u001b[0;34m=\u001b[0m\u001b[0;34m'Sample'\u001b[0m\u001b[0;34m)\u001b[0m\u001b[0;34m\u001b[0m\u001b[0;34m\u001b[0m\u001b[0m\n\u001b[0m\u001b[1;32m     26\u001b[0m \u001b[0mfig\u001b[0m\u001b[0;34m.\u001b[0m\u001b[0mset_axis_labels\u001b[0m\u001b[0;34m(\u001b[0m\u001b[0mxlabel\u001b[0m\u001b[0;34m=\u001b[0m\u001b[0;34mr'$\\text{Time in day}$'\u001b[0m\u001b[0;34m,\u001b[0m \u001b[0mylabel\u001b[0m\u001b[0;34m=\u001b[0m\u001b[0;34mr'$\\text{Tumour volume in cm}^3$'\u001b[0m\u001b[0;34m)\u001b[0m\u001b[0;34m\u001b[0m\u001b[0;34m\u001b[0m\u001b[0m\n\u001b[1;32m     27\u001b[0m \u001b[0;34m\u001b[0m\u001b[0m\n",
      "\u001b[0;32m~/Documents/SABS/DPhil/erlotinib/erlotinib/plots/_time_series.py\u001b[0m in \u001b[0;36madd_data\u001b[0;34m(self, data, biomarker, id_key, time_key, biom_key, meas_key)\u001b[0m\n\u001b[1;32m    448\u001b[0m             \u001b[0mtimes\u001b[0m \u001b[0;34m=\u001b[0m \u001b[0mdata\u001b[0m\u001b[0;34m[\u001b[0m\u001b[0mtime_key\u001b[0m\u001b[0;34m]\u001b[0m\u001b[0;34m[\u001b[0m\u001b[0mmask\u001b[0m\u001b[0;34m]\u001b[0m\u001b[0;34m\u001b[0m\u001b[0;34m\u001b[0m\u001b[0m\n\u001b[1;32m    449\u001b[0m             \u001b[0mmeasurements\u001b[0m \u001b[0;34m=\u001b[0m \u001b[0mdata\u001b[0m\u001b[0;34m[\u001b[0m\u001b[0mmeas_key\u001b[0m\u001b[0;34m]\u001b[0m\u001b[0;34m[\u001b[0m\u001b[0mmask\u001b[0m\u001b[0;34m]\u001b[0m\u001b[0;34m\u001b[0m\u001b[0;34m\u001b[0m\u001b[0m\n\u001b[0;32m--> 450\u001b[0;31m             \u001b[0mcolor\u001b[0m \u001b[0;34m=\u001b[0m \u001b[0mcolors\u001b[0m\u001b[0;34m[\u001b[0m\u001b[0mindex\u001b[0m\u001b[0;34m]\u001b[0m\u001b[0;34m\u001b[0m\u001b[0;34m\u001b[0m\u001b[0m\n\u001b[0m\u001b[1;32m    451\u001b[0m \u001b[0;34m\u001b[0m\u001b[0m\n\u001b[1;32m    452\u001b[0m             \u001b[0;31m# Create Scatter plot\u001b[0m\u001b[0;34m\u001b[0m\u001b[0;34m\u001b[0m\u001b[0;34m\u001b[0m\u001b[0m\n",
      "\u001b[0;31mIndexError\u001b[0m: list index out of range"
     ]
    }
   ],
   "source": [
    "import numpy as np\n",
    "\n",
    "# Get predictive model\n",
    "predictive_model = problem.get_predictive_model()\n",
    "\n",
    "# Define a virtual patient population\n",
    "parameters = [\n",
    "    0.13,  # Mean: Initial tumour volume\n",
    "    0.04,  # Std.: Initial tumour volume\n",
    "    1.00,  # Mean: Critical tumour volume\n",
    "    1.43,  # Std.: Critical tumour volume\n",
    "    0.25,  # Mean: Tumour growth rate\n",
    "    0.17,  # Std.: Tumour growth rate\n",
    "    0.04,  # Pooled: Base noise\n",
    "    0.1]   # Pooled: Relative noise\n",
    "\n",
    "# Take virtual measurements\n",
    "seed = 1\n",
    "times = np.linspace(0, 30, num=10)\n",
    "n_samples = 16\n",
    "data = predictive_model.sample(parameters, times, n_samples, seed)\n",
    "\n",
    "# Create scatter plot\n",
    "fig = erlo.plots.PDPredictivePlot()\n",
    "fig.add_data(data, , meas_key='Sample')\n",
    "fig.set_axis_labels(xlabel=r'$\\text{Time in day}$', ylabel=r'$\\text{Tumour volume in cm}^3$')\n",
    "\n",
    "# Show figure\n",
    "fig.show()"
   ]
  },
  {
   "cell_type": "markdown",
   "metadata": {},
   "source": [
    "**Figure 1:** Visualisation of the measured tumour growth in a group of virtual patient."
   ]
  },
  {
   "cell_type": "markdown",
   "metadata": {},
   "source": [
    "## Build prior predictive model"
   ]
  },
  {
   "cell_type": "markdown",
   "metadata": {},
   "source": [
    "### Individual model"
   ]
  },
  {
   "cell_type": "code",
   "execution_count": null,
   "metadata": {},
   "outputs": [],
   "source": [
    "import pints\n",
    "\n",
    "# Define prior distribution\n",
    "log_priors = [\n",
    "    pints.TruncatedGaussianLogPrior(mean=0.1, sd=1, a=0, b=np.inf),      # Initial tumour volume\n",
    "    pints.TruncatedGaussianLogPrior(mean=1, sd=1, a=0, b=np.inf),        # Critical tumour volume\n",
    "    pints.TruncatedGaussianLogPrior(mean=0.1, sd=1, a=0, b=np.inf),      # Growth rate\n",
    "    pints.TruncatedGaussianLogPrior(mean=0.1, sd=1, a=0, b=np.inf),      # Sigma base\n",
    "    pints.TruncatedGaussianLogPrior(mean=0.1, sd=0.1, a=0, b=np.inf)]    # Sigma rel.\n",
    "log_prior = pints.ComposedLogPrior(*log_priors)\n",
    "\n",
    "# Define prior predictive model\n",
    "predictive_model = problem.get_predictive_model(exclude_pop_model=True)\n",
    "model = erlo.PriorPredictiveModel(predictive_model, log_prior)\n",
    "\n",
    "# Sample from prior predictive model\n",
    "seed = 42\n",
    "n_samples = 1000\n",
    "times = np.linspace(0, 30)\n",
    "samples = model.sample(times, n_samples, seed)\n",
    "\n",
    "# Visualise prior predictive model\n",
    "fig = erlo.plots.PDPredictivePlot()\n",
    "fig.add_prediction(data=samples, bulk_probs=[0.3, 0.6, 0.9])\n",
    "fig.set_axis_labels(xlabel=r'$\\text{Time in day}$', ylabel=r'$\\text{Tumour volume in cm}^3$')\n",
    "fig.show()"
   ]
  },
  {
   "cell_type": "markdown",
   "metadata": {},
   "source": [
    "**Figure 2:** Approximate prior predictive model for the tumour growth in an individual over time. The shaded areas indicate the 30%, 60% and 90% bulk of the prior predictive model (from dark to light). The prior predictive model was approximated by sampling 1000 parameters from the prior distribution, and subsequent sampling of 50 equidistant time points from the predictive model each parameter set."
   ]
  },
  {
   "cell_type": "markdown",
   "metadata": {},
   "source": [
    "### Population model"
   ]
  },
  {
   "cell_type": "code",
   "execution_count": null,
   "metadata": {},
   "outputs": [],
   "source": [
    "# Define prior distribution\n",
    "log_priors = [\n",
    "    pints.TruncatedGaussianLogPrior(mean=0.1, sd=1, a=0, b=np.inf),      # Mean Initial tumour volume\n",
    "    pints.TruncatedGaussianLogPrior(mean=1, sd=1, a=0, b=np.inf),        # Std. Initial tumour volume\n",
    "    pints.TruncatedGaussianLogPrior(mean=1, sd=1, a=0, b=np.inf),        # Mean Critical tumour volume\n",
    "    pints.TruncatedGaussianLogPrior(mean=1, sd=1, a=0, b=np.inf),        # Std. Critical tumour volume\n",
    "    pints.TruncatedGaussianLogPrior(mean=0.1, sd=1, a=0, b=np.inf),      # Mean Growth rate\n",
    "    pints.TruncatedGaussianLogPrior(mean=1, sd=1, a=0, b=np.inf),        # Std. Growth rate\n",
    "    pints.TruncatedGaussianLogPrior(mean=0.1, sd=1, a=0, b=np.inf),      # Pooled Sigma base\n",
    "    pints.TruncatedGaussianLogPrior(mean=0.1, sd=0.1, a=0, b=np.inf)]    # Pooled Sigma rel.\n",
    "log_prior = pints.ComposedLogPrior(*log_priors)\n",
    "\n",
    "# Define prior predictive model\n",
    "predictive_model = problem.get_predictive_model()\n",
    "model = erlo.PriorPredictiveModel(predictive_model, log_prior)\n",
    "\n",
    "# Sample from prior predictive model\n",
    "seed = 42\n",
    "n_samples = 100\n",
    "times = np.linspace(0, 30)\n",
    "samples = model.sample(times, n_samples, seed)\n",
    "\n",
    "# Visualise prior predictive model\n",
    "fig = erlo.plots.PDPredictivePlot()\n",
    "fig.add_prediction(data=samples, bulk_probs=[0.3, 0.6, 0.9])\n",
    "fig.set_axis_labels(xlabel=r'$\\text{Time in day}$', ylabel=r'$\\text{Tumour volume in cm}^3$')\n",
    "fig.show()"
   ]
  },
  {
   "cell_type": "markdown",
   "metadata": {},
   "source": [
    "**Figure 3:** Approximate prior predictive model for the tumour growth in a population over time. The shaded areas indicate the 30%, 60% and 90% bulk of the prior predictive model (from dark to light). The prior predictive model was approximated by sampling 1000 parameters from the prior distribution, and subsequent sampling of 50 equidistant time points from the predictive model for each parameter set."
   ]
  },
  {
   "cell_type": "markdown",
   "metadata": {},
   "source": [
    "## Find MAP estimates for model parameters"
   ]
  },
  {
   "cell_type": "code",
   "execution_count": null,
   "metadata": {},
   "outputs": [],
   "source": [
    "# Create posterior distribution\n",
    "problem.set_data(\n",
    "    data, meas_key='Sample', dose_key=None, dose_duration_key=None)\n",
    "problem.set_log_prior([\n",
    "    pints.TruncatedGaussianLogPrior(mean=0.1, sd=1, a=0, b=np.inf),    # ID 1 Initial tumour volume\n",
    "    pints.TruncatedGaussianLogPrior(mean=0.1, sd=1, a=0, b=np.inf),    # ID 2 Initial tumour volume\n",
    "    pints.TruncatedGaussianLogPrior(mean=0.1, sd=1, a=0, b=np.inf),    # ID 3 Initial tumour volume\n",
    "    pints.TruncatedGaussianLogPrior(mean=0.1, sd=1, a=0, b=np.inf),    # ID 4 Initial tumour volume\n",
    "    pints.TruncatedGaussianLogPrior(mean=0.1, sd=1, a=0, b=np.inf),    # ID 5 Initial tumour volume\n",
    "    pints.TruncatedGaussianLogPrior(mean=0.1, sd=1, a=0, b=np.inf),    # ID 6 Initial tumour volume\n",
    "    pints.TruncatedGaussianLogPrior(mean=0.1, sd=1, a=0, b=np.inf),    # ID 7 Initial tumour volume\n",
    "    pints.TruncatedGaussianLogPrior(mean=0.1, sd=1, a=0, b=np.inf),    # ID 8 Initial tumour volume\n",
    "    pints.TruncatedGaussianLogPrior(mean=0.1, sd=1, a=0, b=np.inf),    # ID 1 Initial tumour volume\n",
    "    pints.TruncatedGaussianLogPrior(mean=0.1, sd=1, a=0, b=np.inf),    # ID 2 Initial tumour volume\n",
    "    pints.TruncatedGaussianLogPrior(mean=0.1, sd=1, a=0, b=np.inf),    # ID 3 Initial tumour volume\n",
    "    pints.TruncatedGaussianLogPrior(mean=0.1, sd=1, a=0, b=np.inf),    # ID 4 Initial tumour volume\n",
    "    pints.TruncatedGaussianLogPrior(mean=0.1, sd=1, a=0, b=np.inf),    # ID 5 Initial tumour volume\n",
    "    pints.TruncatedGaussianLogPrior(mean=0.1, sd=1, a=0, b=np.inf),    # ID 6 Initial tumour volume\n",
    "    pints.TruncatedGaussianLogPrior(mean=0.1, sd=1, a=0, b=np.inf),    # ID 7 Initial tumour volume\n",
    "    pints.TruncatedGaussianLogPrior(mean=0.1, sd=1, a=0, b=np.inf),    # ID 8 Initial tumour volume\n",
    "    pints.TruncatedGaussianLogPrior(mean=0.1, sd=1, a=0, b=np.inf),    # Mean Initial tumour volume\n",
    "    pints.TruncatedGaussianLogPrior(mean=1, sd=1, a=0, b=np.inf),      # Std. Initial tumour volume\n",
    "    pints.TruncatedGaussianLogPrior(mean=1, sd=1, a=0, b=np.inf),      # ID 1 Critical tumour volume\n",
    "    pints.TruncatedGaussianLogPrior(mean=1, sd=1, a=0, b=np.inf),      # ID 2 Critical tumour volume\n",
    "    pints.TruncatedGaussianLogPrior(mean=1, sd=1, a=0, b=np.inf),      # ID 3 Critical tumour volume\n",
    "    pints.TruncatedGaussianLogPrior(mean=1, sd=1, a=0, b=np.inf),      # ID 4 Critical tumour volume\n",
    "    pints.TruncatedGaussianLogPrior(mean=1, sd=1, a=0, b=np.inf),      # ID 5 Critical tumour volume\n",
    "    pints.TruncatedGaussianLogPrior(mean=1, sd=1, a=0, b=np.inf),      # ID 6 Critical tumour volume\n",
    "    pints.TruncatedGaussianLogPrior(mean=1, sd=1, a=0, b=np.inf),      # ID 7 Critical tumour volume\n",
    "    pints.TruncatedGaussianLogPrior(mean=1, sd=1, a=0, b=np.inf),      # ID 8 Critical tumour volume\n",
    "    pints.TruncatedGaussianLogPrior(mean=1, sd=1, a=0, b=np.inf),      # ID 1 Critical tumour volume\n",
    "    pints.TruncatedGaussianLogPrior(mean=1, sd=1, a=0, b=np.inf),      # ID 2 Critical tumour volume\n",
    "    pints.TruncatedGaussianLogPrior(mean=1, sd=1, a=0, b=np.inf),      # ID 3 Critical tumour volume\n",
    "    pints.TruncatedGaussianLogPrior(mean=1, sd=1, a=0, b=np.inf),      # ID 4 Critical tumour volume\n",
    "    pints.TruncatedGaussianLogPrior(mean=1, sd=1, a=0, b=np.inf),      # ID 5 Critical tumour volume\n",
    "    pints.TruncatedGaussianLogPrior(mean=1, sd=1, a=0, b=np.inf),      # ID 6 Critical tumour volume\n",
    "    pints.TruncatedGaussianLogPrior(mean=1, sd=1, a=0, b=np.inf),      # ID 7 Critical tumour volume\n",
    "    pints.TruncatedGaussianLogPrior(mean=1, sd=1, a=0, b=np.inf),      # ID 8 Critical tumour volume\n",
    "    pints.TruncatedGaussianLogPrior(mean=1, sd=1, a=0, b=np.inf),      # Mean Critical tumour volume\n",
    "    pints.TruncatedGaussianLogPrior(mean=1, sd=1, a=0, b=np.inf),      # Std. Critical tumour volume\n",
    "    pints.TruncatedGaussianLogPrior(mean=0.1, sd=1, a=0, b=np.inf),    # ID 1 Growth rate\n",
    "    pints.TruncatedGaussianLogPrior(mean=0.1, sd=1, a=0, b=np.inf),    # ID 2 Growth rate\n",
    "    pints.TruncatedGaussianLogPrior(mean=0.1, sd=1, a=0, b=np.inf),    # ID 3 Growth rate\n",
    "    pints.TruncatedGaussianLogPrior(mean=0.1, sd=1, a=0, b=np.inf),    # ID 4 Growth rate\n",
    "    pints.TruncatedGaussianLogPrior(mean=0.1, sd=1, a=0, b=np.inf),    # ID 5 Growth rate\n",
    "    pints.TruncatedGaussianLogPrior(mean=0.1, sd=1, a=0, b=np.inf),    # ID 6 Growth rate\n",
    "    pints.TruncatedGaussianLogPrior(mean=0.1, sd=1, a=0, b=np.inf),    # ID 7 Growth rate\n",
    "    pints.TruncatedGaussianLogPrior(mean=0.1, sd=1, a=0, b=np.inf),    # ID 8 Growth rate\n",
    "    pints.TruncatedGaussianLogPrior(mean=0.1, sd=1, a=0, b=np.inf),    # ID 1 Growth rate\n",
    "    pints.TruncatedGaussianLogPrior(mean=0.1, sd=1, a=0, b=np.inf),    # ID 2 Growth rate\n",
    "    pints.TruncatedGaussianLogPrior(mean=0.1, sd=1, a=0, b=np.inf),    # ID 3 Growth rate\n",
    "    pints.TruncatedGaussianLogPrior(mean=0.1, sd=1, a=0, b=np.inf),    # ID 4 Growth rate\n",
    "    pints.TruncatedGaussianLogPrior(mean=0.1, sd=1, a=0, b=np.inf),    # ID 5 Growth rate\n",
    "    pints.TruncatedGaussianLogPrior(mean=0.1, sd=1, a=0, b=np.inf),    # ID 6 Growth rate\n",
    "    pints.TruncatedGaussianLogPrior(mean=0.1, sd=1, a=0, b=np.inf),    # ID 7 Growth rate\n",
    "    pints.TruncatedGaussianLogPrior(mean=0.1, sd=1, a=0, b=np.inf),    # ID 8 Growth rate\n",
    "    pints.TruncatedGaussianLogPrior(mean=0.1, sd=1, a=0, b=np.inf),    # Mean Growth rate\n",
    "    pints.TruncatedGaussianLogPrior(mean=1, sd=1, a=0, b=np.inf),      # Std. Growth rate\n",
    "    pints.TruncatedGaussianLogPrior(mean=0.1, sd=1, a=0, b=np.inf),    # Pooled Sigma base\n",
    "    pints.TruncatedGaussianLogPrior(mean=0.1, sd=0.1, a=0, b=np.inf)]) # Pooled Sigma rel.\n",
    "log_posterior = problem.get_log_posteriors()\n",
    "\n",
    "# Find maximum a posteriori probability estimates (MAP)\n",
    "opt = erlo.OptimisationController(log_posterior)\n",
    "opt.set_transform(transform=pints.LogTransformation(n_parameters=32))\n",
    "opt.set_n_runs(5)\n",
    "map_estimates = opt.run(show_run_progress_bar=True)"
   ]
  },
  {
   "cell_type": "markdown",
   "metadata": {},
   "source": [
    "### Visualise optimisation results"
   ]
  },
  {
   "cell_type": "code",
   "execution_count": null,
   "metadata": {},
   "outputs": [],
   "source": [
    "fig = erlo.plots.ParameterEstimatePlot()\n",
    "fig.add_data(map_estimates)\n",
    "\n",
    "fig.show()"
   ]
  },
  {
   "cell_type": "markdown",
   "metadata": {},
   "source": [
    "**Figure 4:** Maximum a posteriori (MAP) estimates of the model parameters. The y axis displays the estimated parameter value, and the x axis the corresponding individual."
   ]
  },
  {
   "cell_type": "markdown",
   "metadata": {},
   "source": [
    "## Find posterior probability distribution"
   ]
  },
  {
   "cell_type": "code",
   "execution_count": null,
   "metadata": {},
   "outputs": [],
   "source": [
    "# Set up sampling controller\n",
    "sampler = erlo.SamplingController(log_posterior)\n",
    "sampler.set_initial_parameters(data=map_estimates)\n",
    "sampler.set_transform(transform=pints.LogTransformation(n_parameters=problem.get_n_parameters()))\n",
    "\n",
    "# Run sampling\n",
    "posterior_samples = sampler.run(n_iterations=4000, show_progress_bar=True)"
   ]
  },
  {
   "cell_type": "markdown",
   "metadata": {},
   "source": [
    "### Visualise posterior samples"
   ]
  },
  {
   "cell_type": "code",
   "execution_count": null,
   "metadata": {},
   "outputs": [],
   "source": [
    "fig = erlo.plots.MarginalPosteriorPlot()\n",
    "fig.add_data(data=posterior_samples, warm_up_iter=2000)\n",
    "\n",
    "fig.show()"
   ]
  },
  {
   "cell_type": "markdown",
   "metadata": {},
   "source": [
    "**Figure 5:** Marginal posterior distributions of model parameters. The y axis displays the sampled parameter value, and the x axis the binned number of samples for each individual."
   ]
  },
  {
   "cell_type": "markdown",
   "metadata": {},
   "source": [
    "## Posterior predictive checks"
   ]
  },
  {
   "cell_type": "markdown",
   "metadata": {},
   "source": [
    "### Indvidual ID 1"
   ]
  },
  {
   "cell_type": "code",
   "execution_count": null,
   "metadata": {},
   "outputs": [],
   "source": [
    "# Construct posterior predictive model\n",
    "n_samples=1000\n",
    "times = np.linspace(0, 30)\n",
    "predictive_model = problem.get_predictive_model(exclude_pop_model=True)\n",
    "model = erlo.PosteriorPredictiveModel(\n",
    "    predictive_model, posterior_samples, individual='ID 1', warm_up_iter=2000)\n",
    "samples = model.sample(times, n_samples)\n",
    "\n",
    "# Visualise posterior predictive model\n",
    "fig = erlo.plots.PDPredictivePlot()\n",
    "fig.add_prediction(data=samples)\n",
    "fig.add_data(data, meas_key='Sample')\n",
    "fig.set_axis_labels(xlabel=r'$\\text{Time in day}$', ylabel=r'$\\text{Tumour volume in cm}^3$')\n",
    "fig.show()"
   ]
  },
  {
   "cell_type": "markdown",
   "metadata": {},
   "source": [
    "**Figure 6:** Approximate posterior predictive model for the tumour growth in individual ID 1 over time. The shaded area indicate the 90% bulk of the posterior predictive model. The posterior predictive model was approximated by sampling 1000 parameters from the posterior distribution, and subsequent sampling of 50 equidistant time points from the predictive model. The scatter points indicate the measurement data that was used for the inference."
   ]
  },
  {
   "cell_type": "markdown",
   "metadata": {},
   "source": [
    "### Indvidual ID 2"
   ]
  },
  {
   "cell_type": "code",
   "execution_count": null,
   "metadata": {},
   "outputs": [],
   "source": [
    "# Construct posterior predictive model\n",
    "n_samples=1000\n",
    "times = np.linspace(0, 30)\n",
    "predictive_model = problem.get_predictive_model(exclude_pop_model=True)\n",
    "model = erlo.PosteriorPredictiveModel(\n",
    "    predictive_model, posterior_samples, individual='ID 2', warm_up_iter=2000)\n",
    "samples = model.sample(times, n_samples)\n",
    "\n",
    "# Visualise posterior predictive model\n",
    "fig = erlo.plots.PDPredictivePlot()\n",
    "fig.add_prediction(data=samples)\n",
    "fig.add_data(data, meas_key='Sample')\n",
    "fig.set_axis_labels(xlabel=r'$\\text{Time in day}$', ylabel=r'$\\text{Tumour volume in cm}^3$')\n",
    "fig.show()"
   ]
  },
  {
   "cell_type": "markdown",
   "metadata": {},
   "source": [
    "**Figure 7:** Approximate posterior predictive model for the tumour growth in individual ID 2 over time. The shaded area indicate the 90% bulk of the posterior predictive model. The posterior predictive model was approximated by sampling 1000 parameters from the posterior distribution, and subsequent sampling of 50 equidistant time points from the predictive model. The scatter points indicate the measurement data that was used for the inference."
   ]
  },
  {
   "cell_type": "markdown",
   "metadata": {},
   "source": [
    "### Individual 3"
   ]
  },
  {
   "cell_type": "code",
   "execution_count": null,
   "metadata": {},
   "outputs": [],
   "source": [
    "# Construct posterior predictive model\n",
    "n_samples=1000\n",
    "times = np.linspace(0, 30)\n",
    "predictive_model = problem.get_predictive_model(exclude_pop_model=True)\n",
    "model = erlo.PosteriorPredictiveModel(\n",
    "    predictive_model, posterior_samples, individual='ID 3', warm_up_iter=2000)\n",
    "samples = model.sample(times, n_samples)\n",
    "\n",
    "# Visualise posterior predictive model\n",
    "fig = erlo.plots.PDPredictivePlot()\n",
    "fig.add_prediction(data=samples)\n",
    "fig.add_data(data, meas_key='Sample')\n",
    "fig.set_axis_labels(xlabel=r'$\\text{Time in day}$', ylabel=r'$\\text{Tumour volume in cm}^3$')\n",
    "fig.show()"
   ]
  },
  {
   "cell_type": "markdown",
   "metadata": {},
   "source": [
    "**Figure 8:** Approximate posterior predictive model for the tumour growth in individual ID 3 over time. The shaded area indicate the 90% bulk of the posterior predictive model. The posterior predictive model was approximated by sampling 1000 parameters from the posterior distribution, and subsequent sampling of 50 equidistant time points from the predictive model. The scatter points indicate the measurement data that was used for the inference."
   ]
  },
  {
   "cell_type": "markdown",
   "metadata": {},
   "source": [
    "### Individual 4"
   ]
  },
  {
   "cell_type": "code",
   "execution_count": null,
   "metadata": {},
   "outputs": [],
   "source": [
    "# Construct posterior predictive model\n",
    "n_samples=1000\n",
    "times = np.linspace(0, 30)\n",
    "predictive_model = problem.get_predictive_model(exclude_pop_model=True)\n",
    "model = erlo.PosteriorPredictiveModel(\n",
    "    predictive_model, posterior_samples, individual='ID 4', warm_up_iter=2000)\n",
    "samples = model.sample(times, n_samples)\n",
    "\n",
    "# Visualise posterior predictive model\n",
    "fig = erlo.plots.PDPredictivePlot()\n",
    "fig.add_prediction(data=samples)\n",
    "fig.add_data(data, meas_key='Sample')\n",
    "fig.set_axis_labels(xlabel=r'$\\text{Time in day}$', ylabel=r'$\\text{Tumour volume in cm}^3$')\n",
    "fig.show()"
   ]
  },
  {
   "cell_type": "markdown",
   "metadata": {},
   "source": [
    "**Figure 9:** Approximate posterior predictive model for the tumour growth in individual ID 4 over time. The shaded area indicate the 90% bulk of the posterior predictive model. The posterior predictive model was approximated by sampling 1000 parameters from the posterior distribution, and subsequent sampling of 50 equidistant time points from the predictive model. The scatter points indicate the measurement data that was used for the inference."
   ]
  },
  {
   "cell_type": "markdown",
   "metadata": {},
   "source": [
    "### Individual 5"
   ]
  },
  {
   "cell_type": "code",
   "execution_count": null,
   "metadata": {},
   "outputs": [],
   "source": [
    "# Construct posterior predictive model\n",
    "n_samples=1000\n",
    "times = np.linspace(0, 30)\n",
    "predictive_model = problem.get_predictive_model(exclude_pop_model=True)\n",
    "model = erlo.PosteriorPredictiveModel(\n",
    "    predictive_model, posterior_samples, individual='ID 5', warm_up_iter=2000)\n",
    "samples = model.sample(times, n_samples)\n",
    "\n",
    "# Visualise posterior predictive model\n",
    "fig = erlo.plots.PDPredictivePlot()\n",
    "fig.add_prediction(data=samples)\n",
    "fig.add_data(data, meas_key='Sample')\n",
    "fig.set_axis_labels(xlabel=r'$\\text{Time in day}$', ylabel=r'$\\text{Tumour volume in cm}^3$')\n",
    "fig.show()"
   ]
  },
  {
   "cell_type": "markdown",
   "metadata": {},
   "source": [
    "**Figure 10:** Approximate posterior predictive model for the tumour growth in individual ID 5 over time. The shaded area indicate the 90% bulk of the posterior predictive model. The posterior predictive model was approximated by sampling 1000 parameters from the posterior distribution, and subsequent sampling of 50 equidistant time points from the predictive model. The scatter points indicate the measurement data that was used for the inference."
   ]
  },
  {
   "cell_type": "markdown",
   "metadata": {},
   "source": [
    "### Individual 6"
   ]
  },
  {
   "cell_type": "code",
   "execution_count": null,
   "metadata": {},
   "outputs": [],
   "source": [
    "# Construct posterior predictive model\n",
    "n_samples=1000\n",
    "times = np.linspace(0, 30)\n",
    "predictive_model = problem.get_predictive_model(exclude_pop_model=True)\n",
    "model = erlo.PosteriorPredictiveModel(\n",
    "    predictive_model, posterior_samples, individual='ID 6', warm_up_iter=2000)\n",
    "samples = model.sample(times, n_samples)\n",
    "\n",
    "# Visualise posterior predictive model\n",
    "fig = erlo.plots.PDPredictivePlot()\n",
    "fig.add_prediction(data=samples)\n",
    "fig.add_data(data, meas_key='Sample')\n",
    "fig.set_axis_labels(xlabel=r'$\\text{Time in day}$', ylabel=r'$\\text{Tumour volume in cm}^3$')\n",
    "fig.show()"
   ]
  },
  {
   "cell_type": "markdown",
   "metadata": {},
   "source": [
    "**Figure 11:** Approximate posterior predictive model for the tumour growth in individual ID 6 over time. The shaded area indicate the 90% bulk of the posterior predictive model. The posterior predictive model was approximated by sampling 1000 parameters from the posterior distribution, and subsequent sampling of 50 equidistant time points from the predictive model. The scatter points indicate the measurement data that was used for the inference."
   ]
  },
  {
   "cell_type": "markdown",
   "metadata": {},
   "source": [
    "### Individual 7"
   ]
  },
  {
   "cell_type": "code",
   "execution_count": null,
   "metadata": {},
   "outputs": [],
   "source": [
    "# Construct posterior predictive model\n",
    "n_samples=1000\n",
    "times = np.linspace(0, 30)\n",
    "predictive_model = problem.get_predictive_model(exclude_pop_model=True)\n",
    "model = erlo.PosteriorPredictiveModel(\n",
    "    predictive_model, posterior_samples, individual='ID 7', warm_up_iter=2000)\n",
    "samples = model.sample(times, n_samples)\n",
    "\n",
    "# Visualise posterior predictive model\n",
    "fig = erlo.plots.PDPredictivePlot()\n",
    "fig.add_prediction(data=samples)\n",
    "fig.add_data(data, meas_key='Sample')\n",
    "fig.set_axis_labels(xlabel=r'$\\text{Time in day}$', ylabel=r'$\\text{Tumour volume in cm}^3$')\n",
    "fig.show()"
   ]
  },
  {
   "cell_type": "markdown",
   "metadata": {},
   "source": [
    "**Figure 12:** Approximate posterior predictive model for the tumour growth in individual ID 7 over time. The shaded area indicate the 90% bulk of the posterior predictive model. The posterior predictive model was approximated by sampling 1000 parameters from the posterior distribution, and subsequent sampling of 50 equidistant time points from the predictive model. The scatter points indicate the measurement data that was used for the inference."
   ]
  },
  {
   "cell_type": "markdown",
   "metadata": {},
   "source": [
    "### Individual 8"
   ]
  },
  {
   "cell_type": "code",
   "execution_count": null,
   "metadata": {},
   "outputs": [],
   "source": [
    "# Construct posterior predictive model\n",
    "n_samples=1000\n",
    "times = np.linspace(0, 30)\n",
    "predictive_model = problem.get_predictive_model(exclude_pop_model=True)\n",
    "model = erlo.PosteriorPredictiveModel(\n",
    "    predictive_model, posterior_samples, individual='ID 8', warm_up_iter=2000)\n",
    "samples = model.sample(times, n_samples)\n",
    "\n",
    "# Visualise posterior predictive model\n",
    "fig = erlo.plots.PDPredictivePlot()\n",
    "fig.add_prediction(data=samples)\n",
    "fig.add_data(data, meas_key='Sample')\n",
    "fig.set_axis_labels(xlabel=r'$\\text{Time in day}$', ylabel=r'$\\text{Tumour volume in cm}^3$')\n",
    "fig.show()"
   ]
  },
  {
   "cell_type": "markdown",
   "metadata": {},
   "source": [
    "**Figure 13:** Approximate posterior predictive model for the tumour growth in individual ID 8 over time. The shaded area indicate the 90% bulk of the posterior predictive model. The posterior predictive model was approximated by sampling 1000 parameters from the posterior distribution, and subsequent sampling of 50 equidistant time points from the predictive model. The scatter points indicate the measurement data that was used for the inference."
   ]
  },
  {
   "cell_type": "markdown",
   "metadata": {},
   "source": [
    "### Population"
   ]
  },
  {
   "cell_type": "code",
   "execution_count": null,
   "metadata": {},
   "outputs": [],
   "source": [
    "# Construct posterior predictive model\n",
    "n_samples=100\n",
    "times = np.linspace(0, 30)\n",
    "predictive_model = problem.get_predictive_model()\n",
    "model = erlo.PosteriorPredictiveModel(\n",
    "    predictive_model, posterior_samples, warm_up_iter=2000)\n",
    "samples = model.sample(times, n_samples)\n",
    "\n",
    "# Visualise posterior predictive model\n",
    "fig = erlo.plots.PDPredictivePlot()\n",
    "fig.add_prediction(data=samples)\n",
    "fig.add_data(data, meas_key='Sample')\n",
    "fig.set_axis_labels(xlabel=r'$\\text{Time in day}$', ylabel=r'$\\text{Tumour volume in cm}^3$')\n",
    "fig.show()"
   ]
  },
  {
   "cell_type": "markdown",
   "metadata": {},
   "source": [
    "**Figure 14:** Approximate posterior predictive model for the tumour growth in the population over time. The shaded area indicate the 90% bulk of the posterior predictive model. The posterior predictive model was approximated by sampling 1000 parameters from the posterior distribution, and subsequent sampling of 50 equidistant time points from the predictive model. The scatter points indicate the measurement data that was used for the inference."
   ]
  }
 ],
 "metadata": {
  "kernelspec": {
   "display_name": "erlotinib-venv",
   "language": "python",
   "name": "erlotinib-venv"
  },
  "language_info": {
   "codemirror_mode": {
    "name": "ipython",
    "version": 3
   },
   "file_extension": ".py",
   "mimetype": "text/x-python",
   "name": "python",
   "nbconvert_exporter": "python",
   "pygments_lexer": "ipython3",
   "version": "3.7.5"
  }
 },
 "nbformat": 4,
 "nbformat_minor": 2
}
